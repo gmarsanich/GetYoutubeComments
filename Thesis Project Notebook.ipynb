{
 "cells": [
  {
   "cell_type": "markdown",
   "metadata": {},
   "source": [
    "# Thesis project notebook "
   ]
  },
  {
   "cell_type": "markdown",
   "metadata": {},
   "source": [
    "##### Uncomment and run the cell below to automatically install the required libraries"
   ]
  },
  {
   "cell_type": "code",
   "execution_count": 1,
   "metadata": {},
   "outputs": [],
   "source": [
    "# %pip install -r requirements.txt"
   ]
  },
  {
   "cell_type": "markdown",
   "metadata": {},
   "source": [
    "Start by importing the required libraries"
   ]
  },
  {
   "cell_type": "code",
   "execution_count": 53,
   "metadata": {},
   "outputs": [],
   "source": [
    "import json\n",
    "import os\n",
    "import random\n",
    "from multiprocessing import Pool\n",
    "from itertools import repeat\n",
    "import pandas as pd\n",
    "import utils\n",
    "import langdetect as ld"
   ]
  },
  {
   "cell_type": "markdown",
   "metadata": {},
   "source": [
    "Since the real analysis is going to take a long time to complete, we'll start with a toy example which takes about a minute. "
   ]
  },
  {
   "cell_type": "markdown",
   "metadata": {},
   "source": [
    "Let's load comments from a json file and see how many there are"
   ]
  },
  {
   "cell_type": "code",
   "execution_count": 3,
   "metadata": {},
   "outputs": [
    {
     "name": "stdout",
     "output_type": "stream",
     "text": [
      "Reading from local file <comments_4DCbZJh-Gk4.json>\n",
      "There are 100 comments in this dataset\n",
      "['Outstanding!', 'my lord i imagine a war space i love this emg videos john browne are the best ever   ...ever suppppport  djent\\nim from argentina say love metal instrumental', \"1:31 that switch up is fucking timeless. I've known this song for about 5 years now and it still never gets old.\", 'And yet we still search for proof of alien life 🤷🏻\\u200d♂️', 'After almost 7 years this playthrough still brings tears to my eyes. So good and hope to see Monuments live again soon!', 'Djesus Christ', 'Masterpiece!!', 'god DAMN that part beginning at 1:58 is SOOO fucking good like holy FUCK man', 'All finger breaker chords. All the time.', 'Bruh']\n"
     ]
    }
   ],
   "source": [
    "from get_video import load_comments\n",
    "\n",
    "comments = load_comments(\"comments_4DCbZJh-Gk4.json\")\n",
    "print(f\"There are {len(comments)} comments in this dataset\")\n",
    "print(comments[:10])"
   ]
  },
  {
   "cell_type": "markdown",
   "metadata": {},
   "source": [
    "##### Now we can start analyzing them!"
   ]
  },
  {
   "cell_type": "markdown",
   "metadata": {},
   "source": [
    "We will analyze the comments with BERT first, and save the results to a list. This is due to the fact that the BERT classifier pipeline works better when given a list of comments rather than a single comment"
   ]
  },
  {
   "cell_type": "code",
   "execution_count": 4,
   "metadata": {},
   "outputs": [],
   "source": [
    "bert_scores = utils.bert_classifier(comments)"
   ]
  },
  {
   "cell_type": "markdown",
   "metadata": {},
   "source": [
    "Now we analyze the comments using Vader and Textblob"
   ]
  },
  {
   "cell_type": "code",
   "execution_count": 5,
   "metadata": {},
   "outputs": [],
   "source": [
    "df_list = []\n",
    "scores_list = []\n",
    "\n",
    "with Pool() as p:\n",
    "    analysis1 = p.map(utils.vader_classifier, comments)\n",
    "    analysis2 = p.map(utils.textblob_classifier, comments)\n",
    "    scores_list.append(analysis1)\n",
    "    scores_list.append(analysis2)\n",
    "\n",
    "for comment, v_score, t_score in zip(comments, scores_list[0], scores_list[1]):\n",
    "    df_dict = {\n",
    "        \"Comment\": comment,\n",
    "        \"Vader score\": v_score,\n",
    "        \"TextBlob score\": t_score,\n",
    "    }\n",
    "    df_list.append(df_dict)\n",
    "\n",
    "df = pd.DataFrame(df_list)"
   ]
  },
  {
   "cell_type": "markdown",
   "metadata": {},
   "source": [
    "We should merge the results of both analyses into a single dataframe"
   ]
  },
  {
   "cell_type": "code",
   "execution_count": 6,
   "metadata": {},
   "outputs": [],
   "source": [
    "df = pd.DataFrame(df_list)\n",
    "series_bert = pd.Series(bert_scores)\n",
    "\n",
    "df['BERT score'] = series_bert"
   ]
  },
  {
   "cell_type": "markdown",
   "metadata": {},
   "source": [
    "Let's inspect the dataframe. Start by looking at the first 10 rows"
   ]
  },
  {
   "cell_type": "code",
   "execution_count": 7,
   "metadata": {},
   "outputs": [
    {
     "data": {
      "text/html": [
       "<div>\n",
       "<style scoped>\n",
       "    .dataframe tbody tr th:only-of-type {\n",
       "        vertical-align: middle;\n",
       "    }\n",
       "\n",
       "    .dataframe tbody tr th {\n",
       "        vertical-align: top;\n",
       "    }\n",
       "\n",
       "    .dataframe thead th {\n",
       "        text-align: right;\n",
       "    }\n",
       "</style>\n",
       "<table border=\"1\" class=\"dataframe\">\n",
       "  <thead>\n",
       "    <tr style=\"text-align: right;\">\n",
       "      <th></th>\n",
       "      <th>Comment</th>\n",
       "      <th>Vader score</th>\n",
       "      <th>TextBlob score</th>\n",
       "      <th>BERT score</th>\n",
       "    </tr>\n",
       "  </thead>\n",
       "  <tbody>\n",
       "    <tr>\n",
       "      <th>0</th>\n",
       "      <td>Outstanding!</td>\n",
       "      <td>0.6476</td>\n",
       "      <td>0.625000</td>\n",
       "      <td>0.896599</td>\n",
       "    </tr>\n",
       "    <tr>\n",
       "      <th>1</th>\n",
       "      <td>my lord i imagine a war space i love this emg ...</td>\n",
       "      <td>0.8658</td>\n",
       "      <td>0.666667</td>\n",
       "      <td>0.894711</td>\n",
       "    </tr>\n",
       "    <tr>\n",
       "      <th>2</th>\n",
       "      <td>1:31 that switch up is fucking timeless. I've ...</td>\n",
       "      <td>0.0000</td>\n",
       "      <td>-0.250000</td>\n",
       "      <td>-0.551378</td>\n",
       "    </tr>\n",
       "    <tr>\n",
       "      <th>3</th>\n",
       "      <td>And yet we still search for proof of alien lif...</td>\n",
       "      <td>0.0000</td>\n",
       "      <td>-0.250000</td>\n",
       "      <td>0.367565</td>\n",
       "    </tr>\n",
       "    <tr>\n",
       "      <th>4</th>\n",
       "      <td>After almost 7 years this playthrough still br...</td>\n",
       "      <td>0.7428</td>\n",
       "      <td>0.435227</td>\n",
       "      <td>0.736152</td>\n",
       "    </tr>\n",
       "    <tr>\n",
       "      <th>5</th>\n",
       "      <td>Djesus Christ</td>\n",
       "      <td>0.0000</td>\n",
       "      <td>0.000000</td>\n",
       "      <td>0.272853</td>\n",
       "    </tr>\n",
       "    <tr>\n",
       "      <th>6</th>\n",
       "      <td>Masterpiece!!</td>\n",
       "      <td>0.6892</td>\n",
       "      <td>0.000000</td>\n",
       "      <td>0.879835</td>\n",
       "    </tr>\n",
       "    <tr>\n",
       "      <th>7</th>\n",
       "      <td>god DAMN that part beginning at 1:58 is SOOO f...</td>\n",
       "      <td>-0.1518</td>\n",
       "      <td>0.150000</td>\n",
       "      <td>-0.496737</td>\n",
       "    </tr>\n",
       "    <tr>\n",
       "      <th>8</th>\n",
       "      <td>All finger breaker chords. All the time.</td>\n",
       "      <td>0.0000</td>\n",
       "      <td>0.000000</td>\n",
       "      <td>0.759309</td>\n",
       "    </tr>\n",
       "    <tr>\n",
       "      <th>9</th>\n",
       "      <td>Bruh</td>\n",
       "      <td>0.0000</td>\n",
       "      <td>0.000000</td>\n",
       "      <td>-0.386926</td>\n",
       "    </tr>\n",
       "  </tbody>\n",
       "</table>\n",
       "</div>"
      ],
      "text/plain": [
       "                                             Comment  Vader score  \\\n",
       "0                                       Outstanding!       0.6476   \n",
       "1  my lord i imagine a war space i love this emg ...       0.8658   \n",
       "2  1:31 that switch up is fucking timeless. I've ...       0.0000   \n",
       "3  And yet we still search for proof of alien lif...       0.0000   \n",
       "4  After almost 7 years this playthrough still br...       0.7428   \n",
       "5                                      Djesus Christ       0.0000   \n",
       "6                                      Masterpiece!!       0.6892   \n",
       "7  god DAMN that part beginning at 1:58 is SOOO f...      -0.1518   \n",
       "8           All finger breaker chords. All the time.       0.0000   \n",
       "9                                               Bruh       0.0000   \n",
       "\n",
       "   TextBlob score  BERT score  \n",
       "0        0.625000    0.896599  \n",
       "1        0.666667    0.894711  \n",
       "2       -0.250000   -0.551378  \n",
       "3       -0.250000    0.367565  \n",
       "4        0.435227    0.736152  \n",
       "5        0.000000    0.272853  \n",
       "6        0.000000    0.879835  \n",
       "7        0.150000   -0.496737  \n",
       "8        0.000000    0.759309  \n",
       "9        0.000000   -0.386926  "
      ]
     },
     "execution_count": 7,
     "metadata": {},
     "output_type": "execute_result"
    }
   ],
   "source": [
    "df.head(10)"
   ]
  },
  {
   "cell_type": "markdown",
   "metadata": {},
   "source": [
    "Scores are useful for computation, but not so much for legibility. It would be good to have labels so we know what the scores mean exactly. The Vader team has ranges defined on their GitHub repository, so assigning labels is going to be very easy. BERT returns a label, but it's not formatted in a way that we like. TextBlob doesn't return labels at all, and ideal ranges are not defined in the documentation. Let's add some labels now"
   ]
  },
  {
   "cell_type": "code",
   "execution_count": 8,
   "metadata": {},
   "outputs": [],
   "source": [
    "vader_labels = utils.generate_labels(df[\"Vader score\"], \"vader\")\n",
    "blob_labels = utils.generate_labels(df[\"TextBlob score\"], \"blob\")\n",
    "bert_labels = utils.generate_labels(df[\"BERT score\"], \"bert\")\n",
    "\n",
    "vader_labels_series = pd.Series(vader_labels)\n",
    "blob_labels_series = pd.Series(blob_labels)\n",
    "bert_labels_series = pd.Series(bert_labels)\n",
    "\n",
    "df['Vader label'] = vader_labels_series\n",
    "df['TextBlob label'] = blob_labels_series\n",
    "df['BERT label'] = bert_labels_series"
   ]
  },
  {
   "cell_type": "markdown",
   "metadata": {},
   "source": [
    "Let's rearrange the columns and see what it looks like"
   ]
  },
  {
   "cell_type": "code",
   "execution_count": 9,
   "metadata": {},
   "outputs": [
    {
     "data": {
      "text/html": [
       "<div>\n",
       "<style scoped>\n",
       "    .dataframe tbody tr th:only-of-type {\n",
       "        vertical-align: middle;\n",
       "    }\n",
       "\n",
       "    .dataframe tbody tr th {\n",
       "        vertical-align: top;\n",
       "    }\n",
       "\n",
       "    .dataframe thead th {\n",
       "        text-align: right;\n",
       "    }\n",
       "</style>\n",
       "<table border=\"1\" class=\"dataframe\">\n",
       "  <thead>\n",
       "    <tr style=\"text-align: right;\">\n",
       "      <th></th>\n",
       "      <th>Comment</th>\n",
       "      <th>Vader score</th>\n",
       "      <th>Vader label</th>\n",
       "      <th>TextBlob score</th>\n",
       "      <th>TextBlob label</th>\n",
       "      <th>BERT score</th>\n",
       "      <th>BERT label</th>\n",
       "    </tr>\n",
       "  </thead>\n",
       "  <tbody>\n",
       "    <tr>\n",
       "      <th>0</th>\n",
       "      <td>Outstanding!</td>\n",
       "      <td>0.6476</td>\n",
       "      <td>Positive</td>\n",
       "      <td>0.625000</td>\n",
       "      <td>Positive</td>\n",
       "      <td>0.896599</td>\n",
       "      <td>Positive</td>\n",
       "    </tr>\n",
       "    <tr>\n",
       "      <th>1</th>\n",
       "      <td>my lord i imagine a war space i love this emg ...</td>\n",
       "      <td>0.8658</td>\n",
       "      <td>Positive</td>\n",
       "      <td>0.666667</td>\n",
       "      <td>Positive</td>\n",
       "      <td>0.894711</td>\n",
       "      <td>Positive</td>\n",
       "    </tr>\n",
       "    <tr>\n",
       "      <th>2</th>\n",
       "      <td>1:31 that switch up is fucking timeless. I've ...</td>\n",
       "      <td>0.0000</td>\n",
       "      <td>Neutral</td>\n",
       "      <td>-0.250000</td>\n",
       "      <td>Negative</td>\n",
       "      <td>-0.551378</td>\n",
       "      <td>Negative</td>\n",
       "    </tr>\n",
       "    <tr>\n",
       "      <th>3</th>\n",
       "      <td>And yet we still search for proof of alien lif...</td>\n",
       "      <td>0.0000</td>\n",
       "      <td>Neutral</td>\n",
       "      <td>-0.250000</td>\n",
       "      <td>Negative</td>\n",
       "      <td>0.367565</td>\n",
       "      <td>Positive</td>\n",
       "    </tr>\n",
       "    <tr>\n",
       "      <th>4</th>\n",
       "      <td>After almost 7 years this playthrough still br...</td>\n",
       "      <td>0.7428</td>\n",
       "      <td>Positive</td>\n",
       "      <td>0.435227</td>\n",
       "      <td>Positive</td>\n",
       "      <td>0.736152</td>\n",
       "      <td>Positive</td>\n",
       "    </tr>\n",
       "    <tr>\n",
       "      <th>5</th>\n",
       "      <td>Djesus Christ</td>\n",
       "      <td>0.0000</td>\n",
       "      <td>Neutral</td>\n",
       "      <td>0.000000</td>\n",
       "      <td>Netural</td>\n",
       "      <td>0.272853</td>\n",
       "      <td>Netural</td>\n",
       "    </tr>\n",
       "    <tr>\n",
       "      <th>6</th>\n",
       "      <td>Masterpiece!!</td>\n",
       "      <td>0.6892</td>\n",
       "      <td>Positive</td>\n",
       "      <td>0.000000</td>\n",
       "      <td>Netural</td>\n",
       "      <td>0.879835</td>\n",
       "      <td>Positive</td>\n",
       "    </tr>\n",
       "    <tr>\n",
       "      <th>7</th>\n",
       "      <td>god DAMN that part beginning at 1:58 is SOOO f...</td>\n",
       "      <td>-0.1518</td>\n",
       "      <td>Negative</td>\n",
       "      <td>0.150000</td>\n",
       "      <td>Netural</td>\n",
       "      <td>-0.496737</td>\n",
       "      <td>Negative</td>\n",
       "    </tr>\n",
       "    <tr>\n",
       "      <th>8</th>\n",
       "      <td>All finger breaker chords. All the time.</td>\n",
       "      <td>0.0000</td>\n",
       "      <td>Neutral</td>\n",
       "      <td>0.000000</td>\n",
       "      <td>Netural</td>\n",
       "      <td>0.759309</td>\n",
       "      <td>Positive</td>\n",
       "    </tr>\n",
       "    <tr>\n",
       "      <th>9</th>\n",
       "      <td>Bruh</td>\n",
       "      <td>0.0000</td>\n",
       "      <td>Neutral</td>\n",
       "      <td>0.000000</td>\n",
       "      <td>Netural</td>\n",
       "      <td>-0.386926</td>\n",
       "      <td>Negative</td>\n",
       "    </tr>\n",
       "  </tbody>\n",
       "</table>\n",
       "</div>"
      ],
      "text/plain": [
       "                                             Comment  Vader score Vader label  \\\n",
       "0                                       Outstanding!       0.6476    Positive   \n",
       "1  my lord i imagine a war space i love this emg ...       0.8658    Positive   \n",
       "2  1:31 that switch up is fucking timeless. I've ...       0.0000     Neutral   \n",
       "3  And yet we still search for proof of alien lif...       0.0000     Neutral   \n",
       "4  After almost 7 years this playthrough still br...       0.7428    Positive   \n",
       "5                                      Djesus Christ       0.0000     Neutral   \n",
       "6                                      Masterpiece!!       0.6892    Positive   \n",
       "7  god DAMN that part beginning at 1:58 is SOOO f...      -0.1518    Negative   \n",
       "8           All finger breaker chords. All the time.       0.0000     Neutral   \n",
       "9                                               Bruh       0.0000     Neutral   \n",
       "\n",
       "   TextBlob score TextBlob label  BERT score BERT label  \n",
       "0        0.625000       Positive    0.896599   Positive  \n",
       "1        0.666667       Positive    0.894711   Positive  \n",
       "2       -0.250000       Negative   -0.551378   Negative  \n",
       "3       -0.250000       Negative    0.367565   Positive  \n",
       "4        0.435227       Positive    0.736152   Positive  \n",
       "5        0.000000        Netural    0.272853    Netural  \n",
       "6        0.000000        Netural    0.879835   Positive  \n",
       "7        0.150000        Netural   -0.496737   Negative  \n",
       "8        0.000000        Netural    0.759309   Positive  \n",
       "9        0.000000        Netural   -0.386926   Negative  "
      ]
     },
     "execution_count": 9,
     "metadata": {},
     "output_type": "execute_result"
    }
   ],
   "source": [
    "df = df[[\"Comment\",\"Vader score\", \"Vader label\", \"TextBlob score\", \"TextBlob label\", \"BERT score\", \"BERT label\"]]\n",
    "\n",
    "df.head(10)"
   ]
  },
  {
   "cell_type": "markdown",
   "metadata": {},
   "source": [
    "And now let's check the stats for our numerical columns "
   ]
  },
  {
   "cell_type": "code",
   "execution_count": 10,
   "metadata": {},
   "outputs": [
    {
     "name": "stdout",
     "output_type": "stream",
     "text": [
      "       Vader score  TextBlob score  BERT score\n",
      "count   100.000000      100.000000  100.000000\n",
      "mean      0.245066        0.177426    0.246427\n",
      "std       0.460005        0.421838    0.564940\n",
      "min      -0.726200       -1.000000   -0.967942\n",
      "25%       0.000000        0.000000   -0.289669\n",
      "50%       0.080000        0.129018    0.385416\n",
      "75%       0.682900        0.482924    0.723057\n",
      "max       0.957100        1.000000    0.951091\n"
     ]
    }
   ],
   "source": [
    "print(df.describe())"
   ]
  },
  {
   "cell_type": "markdown",
   "metadata": {},
   "source": [
    "The models seem to be predicting very similarly, but we should still check mathematically using Pearson correlation"
   ]
  },
  {
   "cell_type": "code",
   "execution_count": 11,
   "metadata": {},
   "outputs": [
    {
     "name": "stdout",
     "output_type": "stream",
     "text": [
      "                Vader score  TextBlob score  BERT score\n",
      "Vader score        1.000000        0.667741    0.465176\n",
      "TextBlob score     0.667741        1.000000    0.561260\n",
      "BERT score         0.465176        0.561260    1.000000\n"
     ]
    }
   ],
   "source": [
    "print(df.corr(method='pearson'))"
   ]
  },
  {
   "cell_type": "markdown",
   "metadata": {},
   "source": [
    "## Real analysis"
   ]
  },
  {
   "cell_type": "markdown",
   "metadata": {},
   "source": [
    "Now we have an idea of what our analysis is going to look like. However, one video is not enough. Let's build a bigger dataset using the top 100 most searched terms on YouTube"
   ]
  },
  {
   "cell_type": "code",
   "execution_count": 12,
   "metadata": {},
   "outputs": [
    {
     "data": {
      "text/html": [
       "<div>\n",
       "<style scoped>\n",
       "    .dataframe tbody tr th:only-of-type {\n",
       "        vertical-align: middle;\n",
       "    }\n",
       "\n",
       "    .dataframe tbody tr th {\n",
       "        vertical-align: top;\n",
       "    }\n",
       "\n",
       "    .dataframe thead th {\n",
       "        text-align: right;\n",
       "    }\n",
       "</style>\n",
       "<table border=\"1\" class=\"dataframe\">\n",
       "  <thead>\n",
       "    <tr style=\"text-align: right;\">\n",
       "      <th></th>\n",
       "      <th>#</th>\n",
       "      <th>Keyword</th>\n",
       "      <th>Search Volume</th>\n",
       "    </tr>\n",
       "  </thead>\n",
       "  <tbody>\n",
       "    <tr>\n",
       "      <th>0</th>\n",
       "      <td>1</td>\n",
       "      <td>bts</td>\n",
       "      <td>16,723,304</td>\n",
       "    </tr>\n",
       "    <tr>\n",
       "      <th>1</th>\n",
       "      <td>2</td>\n",
       "      <td>pewdiepie</td>\n",
       "      <td>16,495,659</td>\n",
       "    </tr>\n",
       "    <tr>\n",
       "      <th>2</th>\n",
       "      <td>3</td>\n",
       "      <td>asmr</td>\n",
       "      <td>14,655,088</td>\n",
       "    </tr>\n",
       "    <tr>\n",
       "      <th>3</th>\n",
       "      <td>4</td>\n",
       "      <td>billie eilish</td>\n",
       "      <td>13,801,247</td>\n",
       "    </tr>\n",
       "    <tr>\n",
       "      <th>4</th>\n",
       "      <td>5</td>\n",
       "      <td>baby shark</td>\n",
       "      <td>12,110,100</td>\n",
       "    </tr>\n",
       "    <tr>\n",
       "      <th>5</th>\n",
       "      <td>6</td>\n",
       "      <td>old town road</td>\n",
       "      <td>10,456,524</td>\n",
       "    </tr>\n",
       "    <tr>\n",
       "      <th>6</th>\n",
       "      <td>7</td>\n",
       "      <td>music</td>\n",
       "      <td>10,232,134</td>\n",
       "    </tr>\n",
       "    <tr>\n",
       "      <th>7</th>\n",
       "      <td>8</td>\n",
       "      <td>badabun</td>\n",
       "      <td>10,188,997</td>\n",
       "    </tr>\n",
       "    <tr>\n",
       "      <th>8</th>\n",
       "      <td>9</td>\n",
       "      <td>blackpink</td>\n",
       "      <td>9,580,131</td>\n",
       "    </tr>\n",
       "    <tr>\n",
       "      <th>9</th>\n",
       "      <td>10</td>\n",
       "      <td>fortnite</td>\n",
       "      <td>9,117,342</td>\n",
       "    </tr>\n",
       "  </tbody>\n",
       "</table>\n",
       "</div>"
      ],
      "text/plain": [
       "    #        Keyword Search Volume\n",
       "0   1            bts    16,723,304\n",
       "1   2      pewdiepie    16,495,659\n",
       "2   3           asmr    14,655,088\n",
       "3   4  billie eilish    13,801,247\n",
       "4   5     baby shark    12,110,100\n",
       "5   6  old town road    10,456,524\n",
       "6   7          music    10,232,134\n",
       "7   8        badabun    10,188,997\n",
       "8   9      blackpink     9,580,131\n",
       "9  10       fortnite     9,117,342"
      ]
     },
     "execution_count": 12,
     "metadata": {},
     "output_type": "execute_result"
    }
   ],
   "source": [
    "terms = pd.read_csv('search.tsv', sep='\\t') # obtained from https://ahrefs.com/blog/top-youtube-searches/\n",
    "terms.head(10)"
   ]
  },
  {
   "cell_type": "markdown",
   "metadata": {},
   "source": [
    "We can use these search terms to get YouTube video links which we can then use to gather comments. To save some time (and some precious API quota) we'll use the top 50 searched terms\n",
    "\n",
    "This cell should not be run more than once a month. To make sure you never have to run it again, save the output to a file and load it for subsequent runs"
   ]
  },
  {
   "cell_type": "code",
   "execution_count": 13,
   "metadata": {},
   "outputs": [],
   "source": [
    "# from get_video import get_videos\n",
    "# half = terms.head(50)\n",
    "# search_terms = half[\"Keyword\"]\n",
    "# urls = []\n",
    "\n",
    "# for term in search_terms:\n",
    "#     urls.append(get_videos(term))\n",
    "\n",
    "# links = list(set(item for sublist in urls for item in sublist))\n",
    "\n",
    "# with open(\"videos__.json\", \"w\") as f:\n",
    "#     json.dump(links, f)"
   ]
  },
  {
   "cell_type": "code",
   "execution_count": 14,
   "metadata": {},
   "outputs": [
    {
     "name": "stdout",
     "output_type": "stream",
     "text": [
      "This file contains 911 links\n"
     ]
    }
   ],
   "source": [
    "with open(\"videos__.json\", \"r\") as f:\n",
    "    links = json.load(f)\n",
    "\n",
    "print(f\"This file contains {len(links)} links\")"
   ]
  },
  {
   "cell_type": "markdown",
   "metadata": {},
   "source": [
    "This is a lot of links (and therefore a lot of data). However, taking into account the rate of analysis and the amount of comments per video, we realize that it's going to take a lot of time: many of these videos have around 20,000 comments minimum. Knowing that it takes this program around 30 seconds to analyze 100 comments, analyzing all comments would take days. \n",
    "\n",
    "Instead of waiting for 9 days, we can make a compromise: we can use 500 comments and 500 comments per video. \n",
    "\n",
    "Let's start by randomly selecting 500 URLs."
   ]
  },
  {
   "cell_type": "code",
   "execution_count": 15,
   "metadata": {},
   "outputs": [
    {
     "name": "stdout",
     "output_type": "stream",
     "text": [
      "This file contains 500 links\n"
     ]
    }
   ],
   "source": [
    "random.seed(19)\n",
    "\n",
    "half_links = random.sample(links, k=500)\n",
    "links = list(half_links)\n",
    "print(f\"This file contains {len(links)} links\")\n",
    "\n",
    "with open(\"links.json\", \"w\") as f:\n",
    "    json.dump(links, f)"
   ]
  },
  {
   "cell_type": "markdown",
   "metadata": {},
   "source": [
    "Now that we have our list of links, we can start collecting data. Let's do the fast part first: collecting the like/dislike ratio and saving it somewhere convenient for later. \n",
    "\n",
    "As before, this cell should ideally be run once only as it takes a bit of time - around 5 minutes. If the notebook needs to be restarted, you should load the csv file instead."
   ]
  },
  {
   "cell_type": "code",
   "execution_count": 16,
   "metadata": {},
   "outputs": [],
   "source": [
    "# from get_video import get_likes\n",
    "\n",
    "# start_time = time.time()\n",
    "\n",
    "# with open(\"links.json\", \"r\") as f:\n",
    "#     links = json.load(f)\n",
    "# df_list = []\n",
    "\n",
    "# checkpoints = {int(len(links) * perc): perc * 100 for perc in [0.25, 0.5, 0.75, 0.9, 1]} # same as before\n",
    "\n",
    "# for i, link in enumerate(links):\n",
    "#     current_time = time.time()\n",
    "#     elapsed_time = current_time - start_time\n",
    "#     data = get_likes(link)\n",
    "#     df_list.append(data)\n",
    "#     time.sleep(0.5) # otherwise we will get an HTTP error\n",
    "#     if i + 1 in checkpoints:\n",
    "#             print(f\"{checkpoints[i+1] :.0f}% of the videos have been analyzed\\nTime elapsed: {elapsed_time :.2f} seconds\")  \n",
    "     \n",
    "# df = pd.DataFrame(df_list)\n",
    "# utils.save_analysis(df, \"top50_ratio\")"
   ]
  },
  {
   "cell_type": "markdown",
   "metadata": {},
   "source": [
    "Let's look at the first 10 entries"
   ]
  },
  {
   "cell_type": "code",
   "execution_count": 17,
   "metadata": {},
   "outputs": [
    {
     "data": {
      "text/html": [
       "<div>\n",
       "<style scoped>\n",
       "    .dataframe tbody tr th:only-of-type {\n",
       "        vertical-align: middle;\n",
       "    }\n",
       "\n",
       "    .dataframe tbody tr th {\n",
       "        vertical-align: top;\n",
       "    }\n",
       "\n",
       "    .dataframe thead th {\n",
       "        text-align: right;\n",
       "    }\n",
       "</style>\n",
       "<table border=\"1\" class=\"dataframe\">\n",
       "  <thead>\n",
       "    <tr style=\"text-align: right;\">\n",
       "      <th></th>\n",
       "      <th>URL</th>\n",
       "      <th>likes</th>\n",
       "      <th>dislikes</th>\n",
       "    </tr>\n",
       "  </thead>\n",
       "  <tbody>\n",
       "    <tr>\n",
       "      <th>0</th>\n",
       "      <td>https://www.youtube.com/watch?v=ttWQK5VXskA</td>\n",
       "      <td>784677</td>\n",
       "      <td>25441</td>\n",
       "    </tr>\n",
       "    <tr>\n",
       "      <th>1</th>\n",
       "      <td>https://www.youtube.com/watch?v=5ula1NjaHUA</td>\n",
       "      <td>37445</td>\n",
       "      <td>723</td>\n",
       "    </tr>\n",
       "    <tr>\n",
       "      <th>2</th>\n",
       "      <td>https://www.youtube.com/watch?v=CPK_IdHe1Yg</td>\n",
       "      <td>3781735</td>\n",
       "      <td>145753</td>\n",
       "    </tr>\n",
       "    <tr>\n",
       "      <th>3</th>\n",
       "      <td>https://www.youtube.com/watch?v=QVLvD5_6ld0</td>\n",
       "      <td>224538</td>\n",
       "      <td>16484</td>\n",
       "    </tr>\n",
       "    <tr>\n",
       "      <th>4</th>\n",
       "      <td>https://www.youtube.com/watch?v=4bMOTTJqGgM</td>\n",
       "      <td>25754</td>\n",
       "      <td>9165</td>\n",
       "    </tr>\n",
       "    <tr>\n",
       "      <th>5</th>\n",
       "      <td>https://www.youtube.com/watch?v=KCwK2ECPDLA</td>\n",
       "      <td>42762</td>\n",
       "      <td>1603</td>\n",
       "    </tr>\n",
       "    <tr>\n",
       "      <th>6</th>\n",
       "      <td>https://www.youtube.com/watch?v=L40EFeYQmv8</td>\n",
       "      <td>85259</td>\n",
       "      <td>387</td>\n",
       "    </tr>\n",
       "    <tr>\n",
       "      <th>7</th>\n",
       "      <td>https://www.youtube.com/watch?v=Gl6ekgobG2k</td>\n",
       "      <td>444028</td>\n",
       "      <td>59264</td>\n",
       "    </tr>\n",
       "    <tr>\n",
       "      <th>8</th>\n",
       "      <td>https://www.youtube.com/watch?v=bheqvt6Z8S8</td>\n",
       "      <td>866</td>\n",
       "      <td>28</td>\n",
       "    </tr>\n",
       "    <tr>\n",
       "      <th>9</th>\n",
       "      <td>https://www.youtube.com/watch?v=evy4n3gW7LU</td>\n",
       "      <td>1015</td>\n",
       "      <td>22</td>\n",
       "    </tr>\n",
       "  </tbody>\n",
       "</table>\n",
       "</div>"
      ],
      "text/plain": [
       "                                           URL    likes  dislikes\n",
       "0  https://www.youtube.com/watch?v=ttWQK5VXskA   784677     25441\n",
       "1  https://www.youtube.com/watch?v=5ula1NjaHUA    37445       723\n",
       "2  https://www.youtube.com/watch?v=CPK_IdHe1Yg  3781735    145753\n",
       "3  https://www.youtube.com/watch?v=QVLvD5_6ld0   224538     16484\n",
       "4  https://www.youtube.com/watch?v=4bMOTTJqGgM    25754      9165\n",
       "5  https://www.youtube.com/watch?v=KCwK2ECPDLA    42762      1603\n",
       "6  https://www.youtube.com/watch?v=L40EFeYQmv8    85259       387\n",
       "7  https://www.youtube.com/watch?v=Gl6ekgobG2k   444028     59264\n",
       "8  https://www.youtube.com/watch?v=bheqvt6Z8S8      866        28\n",
       "9  https://www.youtube.com/watch?v=evy4n3gW7LU     1015        22"
      ]
     },
     "execution_count": 17,
     "metadata": {},
     "output_type": "execute_result"
    }
   ],
   "source": [
    "likes_df = pd.read_csv(\"analysis_top50_ratio.csv\", index_col = 0)\n",
    "likes_df.head(10)"
   ]
  },
  {
   "cell_type": "markdown",
   "metadata": {},
   "source": [
    "This is good data, but it is not complete. We are still missing the ratio of likes to dislikes. Let's compute that now!"
   ]
  },
  {
   "cell_type": "code",
   "execution_count": 18,
   "metadata": {},
   "outputs": [
    {
     "data": {
      "text/plain": [
       "0     30.843\n",
       "1     51.791\n",
       "2     25.946\n",
       "3     13.622\n",
       "4      2.810\n",
       "5     26.676\n",
       "6    220.307\n",
       "7      7.492\n",
       "8     30.929\n",
       "9     46.136\n",
       "dtype: float64"
      ]
     },
     "execution_count": 18,
     "metadata": {},
     "output_type": "execute_result"
    }
   ],
   "source": [
    "likes, dislikes = likes_df['likes'], likes_df['dislikes']\n",
    "\n",
    "ratios = []\n",
    "\n",
    "for like, dislike in zip(likes, dislikes):\n",
    "    if like == 0 or dislike == 0:\n",
    "        ratio = 0\n",
    "        ratios.append(ratio)\n",
    "    else:\n",
    "        ratio = round(like / dislike, 3)\n",
    "        ratios.append(ratio)\n",
    "\n",
    "ratios = pd.Series(ratios)\n",
    "ratios.head(10)"
   ]
  },
  {
   "cell_type": "markdown",
   "metadata": {},
   "source": [
    "Let's add this list to our dataframe and compute the mean ratio"
   ]
  },
  {
   "cell_type": "code",
   "execution_count": 19,
   "metadata": {},
   "outputs": [
    {
     "name": "stdout",
     "output_type": "stream",
     "text": [
      "Mean like/dislike ratio = 946.91\n"
     ]
    },
    {
     "data": {
      "text/html": [
       "<div>\n",
       "<style scoped>\n",
       "    .dataframe tbody tr th:only-of-type {\n",
       "        vertical-align: middle;\n",
       "    }\n",
       "\n",
       "    .dataframe tbody tr th {\n",
       "        vertical-align: top;\n",
       "    }\n",
       "\n",
       "    .dataframe thead th {\n",
       "        text-align: right;\n",
       "    }\n",
       "</style>\n",
       "<table border=\"1\" class=\"dataframe\">\n",
       "  <thead>\n",
       "    <tr style=\"text-align: right;\">\n",
       "      <th></th>\n",
       "      <th>URL</th>\n",
       "      <th>likes</th>\n",
       "      <th>dislikes</th>\n",
       "      <th>ratio</th>\n",
       "    </tr>\n",
       "  </thead>\n",
       "  <tbody>\n",
       "    <tr>\n",
       "      <th>0</th>\n",
       "      <td>https://www.youtube.com/watch?v=ttWQK5VXskA</td>\n",
       "      <td>784677</td>\n",
       "      <td>25441</td>\n",
       "      <td>30.843</td>\n",
       "    </tr>\n",
       "    <tr>\n",
       "      <th>1</th>\n",
       "      <td>https://www.youtube.com/watch?v=5ula1NjaHUA</td>\n",
       "      <td>37445</td>\n",
       "      <td>723</td>\n",
       "      <td>51.791</td>\n",
       "    </tr>\n",
       "    <tr>\n",
       "      <th>2</th>\n",
       "      <td>https://www.youtube.com/watch?v=CPK_IdHe1Yg</td>\n",
       "      <td>3781735</td>\n",
       "      <td>145753</td>\n",
       "      <td>25.946</td>\n",
       "    </tr>\n",
       "    <tr>\n",
       "      <th>3</th>\n",
       "      <td>https://www.youtube.com/watch?v=QVLvD5_6ld0</td>\n",
       "      <td>224538</td>\n",
       "      <td>16484</td>\n",
       "      <td>13.622</td>\n",
       "    </tr>\n",
       "    <tr>\n",
       "      <th>4</th>\n",
       "      <td>https://www.youtube.com/watch?v=4bMOTTJqGgM</td>\n",
       "      <td>25754</td>\n",
       "      <td>9165</td>\n",
       "      <td>2.810</td>\n",
       "    </tr>\n",
       "    <tr>\n",
       "      <th>5</th>\n",
       "      <td>https://www.youtube.com/watch?v=KCwK2ECPDLA</td>\n",
       "      <td>42762</td>\n",
       "      <td>1603</td>\n",
       "      <td>26.676</td>\n",
       "    </tr>\n",
       "    <tr>\n",
       "      <th>6</th>\n",
       "      <td>https://www.youtube.com/watch?v=L40EFeYQmv8</td>\n",
       "      <td>85259</td>\n",
       "      <td>387</td>\n",
       "      <td>220.307</td>\n",
       "    </tr>\n",
       "    <tr>\n",
       "      <th>7</th>\n",
       "      <td>https://www.youtube.com/watch?v=Gl6ekgobG2k</td>\n",
       "      <td>444028</td>\n",
       "      <td>59264</td>\n",
       "      <td>7.492</td>\n",
       "    </tr>\n",
       "    <tr>\n",
       "      <th>8</th>\n",
       "      <td>https://www.youtube.com/watch?v=bheqvt6Z8S8</td>\n",
       "      <td>866</td>\n",
       "      <td>28</td>\n",
       "      <td>30.929</td>\n",
       "    </tr>\n",
       "    <tr>\n",
       "      <th>9</th>\n",
       "      <td>https://www.youtube.com/watch?v=evy4n3gW7LU</td>\n",
       "      <td>1015</td>\n",
       "      <td>22</td>\n",
       "      <td>46.136</td>\n",
       "    </tr>\n",
       "  </tbody>\n",
       "</table>\n",
       "</div>"
      ],
      "text/plain": [
       "                                           URL    likes  dislikes    ratio\n",
       "0  https://www.youtube.com/watch?v=ttWQK5VXskA   784677     25441   30.843\n",
       "1  https://www.youtube.com/watch?v=5ula1NjaHUA    37445       723   51.791\n",
       "2  https://www.youtube.com/watch?v=CPK_IdHe1Yg  3781735    145753   25.946\n",
       "3  https://www.youtube.com/watch?v=QVLvD5_6ld0   224538     16484   13.622\n",
       "4  https://www.youtube.com/watch?v=4bMOTTJqGgM    25754      9165    2.810\n",
       "5  https://www.youtube.com/watch?v=KCwK2ECPDLA    42762      1603   26.676\n",
       "6  https://www.youtube.com/watch?v=L40EFeYQmv8    85259       387  220.307\n",
       "7  https://www.youtube.com/watch?v=Gl6ekgobG2k   444028     59264    7.492\n",
       "8  https://www.youtube.com/watch?v=bheqvt6Z8S8      866        28   30.929\n",
       "9  https://www.youtube.com/watch?v=evy4n3gW7LU     1015        22   46.136"
      ]
     },
     "execution_count": 19,
     "metadata": {},
     "output_type": "execute_result"
    }
   ],
   "source": [
    "likes_df['ratio'] = ratios \n",
    "mean_ratio = ratios.mean()\n",
    "print(f\"Mean like/dislike ratio = {mean_ratio :.2f}\")\n",
    "likes_df.head(10)"
   ]
  },
  {
   "cell_type": "markdown",
   "metadata": {},
   "source": [
    "We will use the data in this dataframe as the baseline for the sentiment analysis.\n",
    "\n",
    "This process is going to take a long time to complete, even with multiprocessing. \n",
    "\n",
    "Let's start by collecting the comments.\n",
    "The results will be saved to a file, so there's no need to run this cell more than once if everything goes well."
   ]
  },
  {
   "cell_type": "code",
   "execution_count": 20,
   "metadata": {},
   "outputs": [],
   "source": [
    "# from get_video import get_id, get_comments\n",
    "# import googleapiclient.discovery\n",
    "\n",
    "# start = time.time()\n",
    "\n",
    "# target_dir = f\"{os.getcwd()}/Data\"\n",
    "# if not os.path.exists(target_dir):\n",
    "#     os.mkdir(target_dir)\n",
    "\n",
    "# urls = list(likes_df[\"URL\"])\n",
    "# checkpoints = {int(len(urls) * perc): perc * 100 for perc in [0.25, 0.5, 0.75, 0.9, 1]}\n",
    "\n",
    "# target_dir = f\"{os.getcwd()}/Data\"\n",
    "# if not os.path.exists(target_dir):\n",
    "#     os.mkdir(target_dir)\n",
    "\n",
    "# for i, url in enumerate(urls):\n",
    "#     current_time = time.time()\n",
    "#     elapsed_time = current_time - start_time\n",
    "#     video_id = get_id(url)\n",
    "#     try:\n",
    "#         comments = get_comments(url)\n",
    "#     except googleapiclient.errors.HttpError:\n",
    "#         continue\n",
    "#     utils.move_dir(f\"comments_{video_id}.json\", target_dir)\n",
    "#     if i + 1 in checkpoints:\n",
    "#         print(f\"{checkpoints[i+1] :.0f}% of the comments have been collected\\nTime elapsed: {elapsed_time :.2f} seconds\")\n"
   ]
  },
  {
   "cell_type": "markdown",
   "metadata": {},
   "source": [
    "10 minutes and 12 MB later, we have a folder full of JSON files containing comments.\n",
    "\n",
    "Let's look at one of these files"
   ]
  },
  {
   "cell_type": "code",
   "execution_count": 21,
   "metadata": {},
   "outputs": [
    {
     "name": "stdout",
     "output_type": "stream",
     "text": [
      "There are <452> files in this directory\n",
      "Reading from local file <f:\\Desktop\\Scuola\\Uni\\Y3\\S2\\Thesis\\Project\\Main project\\GetYoutubeComments\\Data\\comments_-0OJwoguQzY.json>\n",
      "['Si la película no fue de tu gusto no te preocupes, tenemos muchas más, y subimos películas (todas las semanas) en la mejor calidad para tu entretenimiento. Recuerda: Nosotros no producimos las películas, solo las distribuimos gratis para que tú puedas verlas.\\r\\nTrabajamos para para ti, así que no te vayas sin dejar un comentario y un me gusta 👍Eso nos motiva a traer nuevo contenido. ¡Gracias! 💛💕\\r\\nSuscríbete para que no te pierdas la próxima película. ✔\\r\\nhttps://www.youtube.com/c/CanalCinelodeon', 'Perronsicima', 'Muy buena actriz Jenifer Garner, muy buena película, felicitaciones por la distribución que hacen ustedes, queremos de la misma calidad....', 'Exelente pelicula..gracias muchas gracias por subirla....desde q empieza y acaba es pura accion de la buena...la recomiendo 100 por ciento...', 'BUENISIMA LA RECOMIENDO LA VI AC TIEMPO Y LA VORVI A VER D TAN BUENA Q ES', 'Cómo la veo en mi PC', 'Ave maria parcer@s super elegante buenicima buen audio, buena imagen rebuena calidad, muchas gracias y muchos exitos', 'Excelente!!!!la vi hoy', 'Muy buena', 'Excelente pelicula muy buena recomenda']\n",
      "This file contains <91> comments\n"
     ]
    }
   ],
   "source": [
    "from get_video import load_comments\n",
    "\n",
    "target_dir = f\"{os.getcwd()}\\\\Data\"\n",
    "data = os.listdir(target_dir)\n",
    "filename = os.path.join(target_dir, data[0])\n",
    "\n",
    "print(f\"There are <{len(data)}> files in this directory\")\n",
    "\n",
    "comment = load_comments(filename)\n",
    "print(comment[:10])\n",
    "print(f\"This file contains <{len(comment)}> comments\")"
   ]
  },
  {
   "cell_type": "markdown",
   "metadata": {},
   "source": [
    "This file is not in English, which is problematic for Vader and TextBlob since they are not multilingual models like BERT. We can work around this by translating the comments into English using a reputable translator. Ideally, we would use language specific models for each language. However, we don't have the time or resources for that, so we will have to use the translator and lose some information. "
   ]
  },
  {
   "cell_type": "code",
   "execution_count": 50,
   "metadata": {},
   "outputs": [
    {
     "name": "stdout",
     "output_type": "stream",
     "text": [
      "[\"If the movie was not to your liking don't worry, we have many more, and we upload movies (every week) in the best quality for your entertainment. Remember: We don't produce the movies, we just distribute them for free so you can watch them.\\r\\nWe work for you, so don't leave without leaving a comment and a like 👍That motivates us to bring you new content. thanks! 💛💕\\r\\nSubscribe so you don't miss the next movie. ✔\\r\\nhttps://www.youtube.com/c/CanalCinelodeon\", 'Perronsicima', 'Very good actress Jenifer Garner, very good movie, congratulations for the distribution that you do, we want the same quality....', 'Exelente pelicula..gracias muchas gracias por subirla....desde q begins and ends is pure action of the good ...la recomiendo 100 por ciento....', 'I HIGHLY RECOMMEND IT, I SAW IT SOME TIME AGO AND I SAW IT AGAIN BECAUSE IT IS SO GOOD.', 'How I see it on my PC', 'Ave maria parcer@s super elegant buenicima good audio, good image, good quality, thank you very much and many successes.', 'Excelente!!!!la vi hoy', 'Very good', 'Excellent movie, very good recommendation']\n"
     ]
    }
   ],
   "source": [
    "langs = []\n",
    "for c in comment:\n",
    "    try:\n",
    "        lang = ld.detect(c)\n",
    "    except ld.lang_detect_exception.LangDetectException:\n",
    "        lang = \"NA\"\n",
    "    langs.append(lang)\n",
    "\n",
    "with Pool() as p:\n",
    "    tr_comment = p.starmap(utils.translate, zip(comment, repeat(langs)))\n",
    "\n",
    "print(tr_comment[:10])"
   ]
  },
  {
   "cell_type": "code",
   "execution_count": 54,
   "metadata": {},
   "outputs": [],
   "source": [
    "bert_scores = utils.bert_classifier(comment)\n",
    "\n",
    "df_list = []\n",
    "scores_list = []\n",
    "\n",
    "with Pool() as p:\n",
    "    analysis1 = p.map(utils.vader_classifier, tr_comment)\n",
    "    analysis2 = p.map(utils.textblob_classifier, tr_comment)\n",
    "    scores_list.append(analysis1)\n",
    "    scores_list.append(analysis2)\n",
    "\n",
    "for c, v_score, t_score in zip(comment, scores_list[0], scores_list[1]):\n",
    "    df_dict = {\n",
    "        \"Comment\": c,\n",
    "        \"Vader score\": v_score,\n",
    "        \"TextBlob score\": t_score,\n",
    "    }\n",
    "    df_list.append(df_dict)\n",
    "\n",
    "df = pd.DataFrame(df_list)"
   ]
  },
  {
   "cell_type": "code",
   "execution_count": 55,
   "metadata": {},
   "outputs": [
    {
     "name": "stdout",
     "output_type": "stream",
     "text": [
      "saved to <analysis_test.csv>\n"
     ]
    },
    {
     "data": {
      "text/html": [
       "<div>\n",
       "<style scoped>\n",
       "    .dataframe tbody tr th:only-of-type {\n",
       "        vertical-align: middle;\n",
       "    }\n",
       "\n",
       "    .dataframe tbody tr th {\n",
       "        vertical-align: top;\n",
       "    }\n",
       "\n",
       "    .dataframe thead th {\n",
       "        text-align: right;\n",
       "    }\n",
       "</style>\n",
       "<table border=\"1\" class=\"dataframe\">\n",
       "  <thead>\n",
       "    <tr style=\"text-align: right;\">\n",
       "      <th></th>\n",
       "      <th>Comment</th>\n",
       "      <th>Vader score</th>\n",
       "      <th>TextBlob score</th>\n",
       "      <th>BERT score</th>\n",
       "    </tr>\n",
       "  </thead>\n",
       "  <tbody>\n",
       "    <tr>\n",
       "      <th>0</th>\n",
       "      <td>Si la película no fue de tu gusto no te preocu...</td>\n",
       "      <td>0.9794</td>\n",
       "      <td>0.398052</td>\n",
       "      <td>0.287919</td>\n",
       "    </tr>\n",
       "    <tr>\n",
       "      <th>1</th>\n",
       "      <td>Perronsicima</td>\n",
       "      <td>0.0000</td>\n",
       "      <td>0.000000</td>\n",
       "      <td>0.221338</td>\n",
       "    </tr>\n",
       "    <tr>\n",
       "      <th>2</th>\n",
       "      <td>Muy buena actriz Jenifer Garner, muy buena pel...</td>\n",
       "      <td>0.8968</td>\n",
       "      <td>0.606667</td>\n",
       "      <td>0.646682</td>\n",
       "    </tr>\n",
       "    <tr>\n",
       "      <th>3</th>\n",
       "      <td>Exelente pelicula..gracias muchas gracias por ...</td>\n",
       "      <td>0.4404</td>\n",
       "      <td>0.338095</td>\n",
       "      <td>0.878554</td>\n",
       "    </tr>\n",
       "    <tr>\n",
       "      <th>4</th>\n",
       "      <td>BUENISIMA LA RECOMIENDO LA VI AC TIEMPO Y LA V...</td>\n",
       "      <td>0.7604</td>\n",
       "      <td>0.430000</td>\n",
       "      <td>0.747503</td>\n",
       "    </tr>\n",
       "    <tr>\n",
       "      <th>5</th>\n",
       "      <td>Cómo la veo en mi PC</td>\n",
       "      <td>0.0000</td>\n",
       "      <td>0.000000</td>\n",
       "      <td>0.585962</td>\n",
       "    </tr>\n",
       "    <tr>\n",
       "      <th>6</th>\n",
       "      <td>Ave maria parcer@s super elegante buenicima bu...</td>\n",
       "      <td>0.9674</td>\n",
       "      <td>0.527619</td>\n",
       "      <td>0.822938</td>\n",
       "    </tr>\n",
       "    <tr>\n",
       "      <th>7</th>\n",
       "      <td>Excelente!!!!la vi hoy</td>\n",
       "      <td>0.0000</td>\n",
       "      <td>0.000000</td>\n",
       "      <td>0.853855</td>\n",
       "    </tr>\n",
       "    <tr>\n",
       "      <th>8</th>\n",
       "      <td>Muy buena</td>\n",
       "      <td>0.4927</td>\n",
       "      <td>0.910000</td>\n",
       "      <td>0.743148</td>\n",
       "    </tr>\n",
       "    <tr>\n",
       "      <th>9</th>\n",
       "      <td>Excelente pelicula muy buena recomenda</td>\n",
       "      <td>0.7841</td>\n",
       "      <td>0.955000</td>\n",
       "      <td>0.790435</td>\n",
       "    </tr>\n",
       "  </tbody>\n",
       "</table>\n",
       "</div>"
      ],
      "text/plain": [
       "                                             Comment  Vader score  \\\n",
       "0  Si la película no fue de tu gusto no te preocu...       0.9794   \n",
       "1                                       Perronsicima       0.0000   \n",
       "2  Muy buena actriz Jenifer Garner, muy buena pel...       0.8968   \n",
       "3  Exelente pelicula..gracias muchas gracias por ...       0.4404   \n",
       "4  BUENISIMA LA RECOMIENDO LA VI AC TIEMPO Y LA V...       0.7604   \n",
       "5                               Cómo la veo en mi PC       0.0000   \n",
       "6  Ave maria parcer@s super elegante buenicima bu...       0.9674   \n",
       "7                             Excelente!!!!la vi hoy       0.0000   \n",
       "8                                          Muy buena       0.4927   \n",
       "9             Excelente pelicula muy buena recomenda       0.7841   \n",
       "\n",
       "   TextBlob score  BERT score  \n",
       "0        0.398052    0.287919  \n",
       "1        0.000000    0.221338  \n",
       "2        0.606667    0.646682  \n",
       "3        0.338095    0.878554  \n",
       "4        0.430000    0.747503  \n",
       "5        0.000000    0.585962  \n",
       "6        0.527619    0.822938  \n",
       "7        0.000000    0.853855  \n",
       "8        0.910000    0.743148  \n",
       "9        0.955000    0.790435  "
      ]
     },
     "execution_count": 55,
     "metadata": {},
     "output_type": "execute_result"
    }
   ],
   "source": [
    "series_bert = pd.Series(bert_scores)\n",
    "df['BERT score'] = series_bert\n",
    "utils.save_analysis(df, \"test\")\n",
    "df.head(10)"
   ]
  },
  {
   "cell_type": "markdown",
   "metadata": {},
   "source": [
    "The results aren't perfect, but they're good enough"
   ]
  },
  {
   "cell_type": "code",
   "execution_count": null,
   "metadata": {},
   "outputs": [],
   "source": []
  }
 ],
 "metadata": {
  "interpreter": {
   "hash": "6a1d14109658dfc9fc37f7252e7fc4fbbe9f7c5bac9b61d43e9e98742e708099"
  },
  "kernelspec": {
   "display_name": "Python 3.10.4 64-bit",
   "language": "python",
   "name": "python3"
  },
  "language_info": {
   "codemirror_mode": {
    "name": "ipython",
    "version": 3
   },
   "file_extension": ".py",
   "mimetype": "text/x-python",
   "name": "python",
   "nbconvert_exporter": "python",
   "pygments_lexer": "ipython3",
   "version": "3.10.4"
  },
  "orig_nbformat": 4
 },
 "nbformat": 4,
 "nbformat_minor": 2
}
