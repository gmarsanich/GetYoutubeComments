{
 "cells": [
  {
   "cell_type": "markdown",
   "metadata": {},
   "source": [
    "# Thesis project notebook "
   ]
  },
  {
   "cell_type": "markdown",
   "metadata": {},
   "source": [
    "##### Uncomment and run the cell below to automatically install the required libraries"
   ]
  },
  {
   "cell_type": "code",
   "execution_count": 1,
   "metadata": {},
   "outputs": [],
   "source": [
    "# %pip install -r requirements.txt"
   ]
  },
  {
   "cell_type": "markdown",
   "metadata": {},
   "source": [
    "Start by importing the required libraries"
   ]
  },
  {
   "cell_type": "code",
   "execution_count": 2,
   "metadata": {},
   "outputs": [],
   "source": [
    "import json\n",
    "import os\n",
    "import random\n",
    "from multiprocessing import Pool\n",
    "import pandas as pd\n",
    "import utils\n",
    "import time\n",
    "import seaborn as sns"
   ]
  },
  {
   "cell_type": "markdown",
   "metadata": {},
   "source": [
    "Let's load in the search terms we need to use"
   ]
  },
  {
   "cell_type": "code",
   "execution_count": 3,
   "metadata": {},
   "outputs": [
    {
     "data": {
      "text/html": [
       "<div>\n",
       "<style scoped>\n",
       "    .dataframe tbody tr th:only-of-type {\n",
       "        vertical-align: middle;\n",
       "    }\n",
       "\n",
       "    .dataframe tbody tr th {\n",
       "        vertical-align: top;\n",
       "    }\n",
       "\n",
       "    .dataframe thead th {\n",
       "        text-align: right;\n",
       "    }\n",
       "</style>\n",
       "<table border=\"1\" class=\"dataframe\">\n",
       "  <thead>\n",
       "    <tr style=\"text-align: right;\">\n",
       "      <th></th>\n",
       "      <th>#</th>\n",
       "      <th>Keyword</th>\n",
       "      <th>Search Volume</th>\n",
       "    </tr>\n",
       "  </thead>\n",
       "  <tbody>\n",
       "    <tr>\n",
       "      <th>0</th>\n",
       "      <td>1</td>\n",
       "      <td>bts</td>\n",
       "      <td>16,723,304</td>\n",
       "    </tr>\n",
       "    <tr>\n",
       "      <th>1</th>\n",
       "      <td>2</td>\n",
       "      <td>pewdiepie</td>\n",
       "      <td>16,495,659</td>\n",
       "    </tr>\n",
       "    <tr>\n",
       "      <th>2</th>\n",
       "      <td>3</td>\n",
       "      <td>asmr</td>\n",
       "      <td>14,655,088</td>\n",
       "    </tr>\n",
       "    <tr>\n",
       "      <th>3</th>\n",
       "      <td>4</td>\n",
       "      <td>billie eilish</td>\n",
       "      <td>13,801,247</td>\n",
       "    </tr>\n",
       "    <tr>\n",
       "      <th>4</th>\n",
       "      <td>5</td>\n",
       "      <td>baby shark</td>\n",
       "      <td>12,110,100</td>\n",
       "    </tr>\n",
       "    <tr>\n",
       "      <th>5</th>\n",
       "      <td>6</td>\n",
       "      <td>old town road</td>\n",
       "      <td>10,456,524</td>\n",
       "    </tr>\n",
       "    <tr>\n",
       "      <th>6</th>\n",
       "      <td>7</td>\n",
       "      <td>music</td>\n",
       "      <td>10,232,134</td>\n",
       "    </tr>\n",
       "    <tr>\n",
       "      <th>7</th>\n",
       "      <td>8</td>\n",
       "      <td>badabun</td>\n",
       "      <td>10,188,997</td>\n",
       "    </tr>\n",
       "    <tr>\n",
       "      <th>8</th>\n",
       "      <td>9</td>\n",
       "      <td>blackpink</td>\n",
       "      <td>9,580,131</td>\n",
       "    </tr>\n",
       "    <tr>\n",
       "      <th>9</th>\n",
       "      <td>10</td>\n",
       "      <td>fortnite</td>\n",
       "      <td>9,117,342</td>\n",
       "    </tr>\n",
       "  </tbody>\n",
       "</table>\n",
       "</div>"
      ],
      "text/plain": [
       "    #        Keyword Search Volume\n",
       "0   1            bts    16,723,304\n",
       "1   2      pewdiepie    16,495,659\n",
       "2   3           asmr    14,655,088\n",
       "3   4  billie eilish    13,801,247\n",
       "4   5     baby shark    12,110,100\n",
       "5   6  old town road    10,456,524\n",
       "6   7          music    10,232,134\n",
       "7   8        badabun    10,188,997\n",
       "8   9      blackpink     9,580,131\n",
       "9  10       fortnite     9,117,342"
      ]
     },
     "execution_count": 3,
     "metadata": {},
     "output_type": "execute_result"
    }
   ],
   "source": [
    "terms = pd.read_csv(f'{os.getcwd()}\\\\Data\\\\search.tsv', sep='\\t') # obtained from https://ahrefs.com/blog/top-youtube-searches/\n",
    "terms.head(10)"
   ]
  },
  {
   "cell_type": "markdown",
   "metadata": {},
   "source": [
    "We can use these search terms to get YouTube video links which we can then use to gather comments. To save some time (and some precious API quota) we'll use the top 50 searched terms\n",
    "\n",
    "This cell should not be run more than once a month. To make sure you never have to run it again, save the output to a file and load it for subsequent runs"
   ]
  },
  {
   "cell_type": "code",
   "execution_count": 4,
   "metadata": {},
   "outputs": [],
   "source": [
    "# from get_video import get_videos\n",
    "# half = terms.head(50)\n",
    "# search_terms = half[\"Keyword\"]\n",
    "# urls = []\n",
    "\n",
    "# for term in search_terms:\n",
    "#     urls.append(get_videos(term))\n",
    "\n",
    "# links = list(set(item for sublist in urls for item in sublist))\n",
    "\n",
    "# with open(f\"{os.getcwd()}\\\\Data\\\\videos__.json\", \"w\") as f:\n",
    "#     json.dump(links, f)"
   ]
  },
  {
   "cell_type": "code",
   "execution_count": 5,
   "metadata": {},
   "outputs": [
    {
     "name": "stdout",
     "output_type": "stream",
     "text": [
      "This file contains <911> links\n"
     ]
    }
   ],
   "source": [
    "with open(f\"{os.getcwd()}\\\\Data\\\\videos__.json\", \"r\") as f:\n",
    "    links = json.load(f)\n",
    "\n",
    "print(f\"This file contains <{len(links)}> links\")"
   ]
  },
  {
   "cell_type": "markdown",
   "metadata": {},
   "source": [
    "This is a lot of links (and therefore a lot of data). However, taking into account the rate of analysis and the amount of comments per video, we realize that it's going to take a lot of time: many of these videos have around 20,000 comments minimum. Knowing that it takes this program around 30 seconds to analyze 100 comments, analyzing all comments would take days. \n",
    "\n",
    "Instead of waiting for 9 days, we can make a compromise: we can take a sample of 500 comments per video. "
   ]
  },
  {
   "cell_type": "markdown",
   "metadata": {},
   "source": [
    "Now that we have our list of links, we can start collecting data. Let's do the fast part first: collecting the like/dislike ratio and saving it somewhere convenient for later. \n",
    "\n",
    "As before, this cell should ideally be run once only as it takes a bit of time - around 15 minutes. If the notebook needs to be restarted, you should load the csv file instead."
   ]
  },
  {
   "cell_type": "code",
   "execution_count": 6,
   "metadata": {},
   "outputs": [],
   "source": [
    "# from get_video import get_likes\n",
    "# start_time = time.time()\n",
    "\n",
    "# with open(\"{os.getcwd()}\\\\Data\\\\videos__.json\", \"r\") as f:\n",
    "#     links = json.load(f)\n",
    "# df_list = []\n",
    "\n",
    "# checkpoints = {int(len(links) * perc): perc * 100 for perc in [0.25, 0.5, 0.75, 0.9, 1]} # same as before\n",
    "\n",
    "# for i, link in enumerate(links):\n",
    "#     current_time = time.time()\n",
    "#     elapsed_time = current_time - start_time\n",
    "#     data = get_likes(link)\n",
    "#     df_list.append(data)\n",
    "#     time.sleep(1) # otherwise we will get an HTTP error\n",
    "#     if i + 1 in checkpoints:\n",
    "#             print(f\"{checkpoints[i+1] :.0f}% of the videos have been analyzed\\nTime elapsed: {elapsed_time :.2f} seconds\")  \n",
    "     \n",
    "# df = pd.DataFrame(df_list)\n",
    "# utils.save_analysis(df, \"top50_ratio\")"
   ]
  },
  {
   "cell_type": "markdown",
   "metadata": {},
   "source": [
    "Let's look at the first 10 entries"
   ]
  },
  {
   "cell_type": "code",
   "execution_count": 7,
   "metadata": {},
   "outputs": [
    {
     "data": {
      "text/html": [
       "<div>\n",
       "<style scoped>\n",
       "    .dataframe tbody tr th:only-of-type {\n",
       "        vertical-align: middle;\n",
       "    }\n",
       "\n",
       "    .dataframe tbody tr th {\n",
       "        vertical-align: top;\n",
       "    }\n",
       "\n",
       "    .dataframe thead th {\n",
       "        text-align: right;\n",
       "    }\n",
       "</style>\n",
       "<table border=\"1\" class=\"dataframe\">\n",
       "  <thead>\n",
       "    <tr style=\"text-align: right;\">\n",
       "      <th></th>\n",
       "      <th>URL</th>\n",
       "      <th>likes</th>\n",
       "      <th>dislikes</th>\n",
       "    </tr>\n",
       "  </thead>\n",
       "  <tbody>\n",
       "    <tr>\n",
       "      <th>0</th>\n",
       "      <td>https://www.youtube.com/watch?v=feLcMaiClOw</td>\n",
       "      <td>312761</td>\n",
       "      <td>19093</td>\n",
       "    </tr>\n",
       "    <tr>\n",
       "      <th>1</th>\n",
       "      <td>https://www.youtube.com/watch?v=tASwv-tkMlc</td>\n",
       "      <td>35026</td>\n",
       "      <td>165</td>\n",
       "    </tr>\n",
       "    <tr>\n",
       "      <th>2</th>\n",
       "      <td>https://www.youtube.com/watch?v=3U2dNKBM28o</td>\n",
       "      <td>126427</td>\n",
       "      <td>6010</td>\n",
       "    </tr>\n",
       "    <tr>\n",
       "      <th>3</th>\n",
       "      <td>https://www.youtube.com/watch?v=1cPDfXU95Xw</td>\n",
       "      <td>23783</td>\n",
       "      <td>18</td>\n",
       "    </tr>\n",
       "    <tr>\n",
       "      <th>4</th>\n",
       "      <td>https://www.youtube.com/watch?v=pptIU_ZLlOo</td>\n",
       "      <td>4600</td>\n",
       "      <td>7</td>\n",
       "    </tr>\n",
       "    <tr>\n",
       "      <th>5</th>\n",
       "      <td>https://www.youtube.com/watch?v=ClQ-ymoXJZc</td>\n",
       "      <td>1079676</td>\n",
       "      <td>8874</td>\n",
       "    </tr>\n",
       "    <tr>\n",
       "      <th>6</th>\n",
       "      <td>https://www.youtube.com/watch?v=8EJ3zbKTWQ8</td>\n",
       "      <td>11371069</td>\n",
       "      <td>1420624</td>\n",
       "    </tr>\n",
       "    <tr>\n",
       "      <th>7</th>\n",
       "      <td>https://www.youtube.com/watch?v=t99KH0TR-J4</td>\n",
       "      <td>1435738</td>\n",
       "      <td>33092</td>\n",
       "    </tr>\n",
       "    <tr>\n",
       "      <th>8</th>\n",
       "      <td>https://www.youtube.com/watch?v=DovdIspaqmw</td>\n",
       "      <td>146007</td>\n",
       "      <td>5324</td>\n",
       "    </tr>\n",
       "    <tr>\n",
       "      <th>9</th>\n",
       "      <td>https://www.youtube.com/watch?v=DQQRjFzB8gY</td>\n",
       "      <td>870202</td>\n",
       "      <td>49922</td>\n",
       "    </tr>\n",
       "  </tbody>\n",
       "</table>\n",
       "</div>"
      ],
      "text/plain": [
       "                                           URL     likes  dislikes\n",
       "0  https://www.youtube.com/watch?v=feLcMaiClOw    312761     19093\n",
       "1  https://www.youtube.com/watch?v=tASwv-tkMlc     35026       165\n",
       "2  https://www.youtube.com/watch?v=3U2dNKBM28o    126427      6010\n",
       "3  https://www.youtube.com/watch?v=1cPDfXU95Xw     23783        18\n",
       "4  https://www.youtube.com/watch?v=pptIU_ZLlOo      4600         7\n",
       "5  https://www.youtube.com/watch?v=ClQ-ymoXJZc   1079676      8874\n",
       "6  https://www.youtube.com/watch?v=8EJ3zbKTWQ8  11371069   1420624\n",
       "7  https://www.youtube.com/watch?v=t99KH0TR-J4   1435738     33092\n",
       "8  https://www.youtube.com/watch?v=DovdIspaqmw    146007      5324\n",
       "9  https://www.youtube.com/watch?v=DQQRjFzB8gY    870202     49922"
      ]
     },
     "execution_count": 7,
     "metadata": {},
     "output_type": "execute_result"
    }
   ],
   "source": [
    "likes_df = pd.read_csv(f\"{os.getcwd()}\\\\Data\\\\analysis_top50_ratio.csv\", index_col = 0)\n",
    "likes_df = likes_df.reset_index()\n",
    "likes_df.head(10)"
   ]
  },
  {
   "cell_type": "markdown",
   "metadata": {},
   "source": [
    "This is good data, but it is not complete. We are still missing the ratio of likes to dislikes. Let's compute that now!"
   ]
  },
  {
   "cell_type": "code",
   "execution_count": 8,
   "metadata": {},
   "outputs": [
    {
     "data": {
      "text/plain": [
       "0      16.381\n",
       "1     212.279\n",
       "2      21.036\n",
       "3    1321.278\n",
       "4     657.143\n",
       "5     121.667\n",
       "6       8.004\n",
       "7      43.386\n",
       "8      27.424\n",
       "9      17.431\n",
       "dtype: float64"
      ]
     },
     "execution_count": 8,
     "metadata": {},
     "output_type": "execute_result"
    }
   ],
   "source": [
    "likes, dislikes = likes_df['likes'], likes_df['dislikes']\n",
    "\n",
    "ratios = []\n",
    "\n",
    "for like, dislike in zip(likes, dislikes):\n",
    "    if like == 0 or dislike == 0:\n",
    "        ratio = 0\n",
    "        ratios.append(ratio)\n",
    "    else:\n",
    "        ratio = round(like / dislike, 3)\n",
    "        ratios.append(ratio)\n",
    "\n",
    "ratios = pd.Series(ratios)\n",
    "ratios.head(10)"
   ]
  },
  {
   "cell_type": "markdown",
   "metadata": {},
   "source": [
    "Let's add this list to our dataframe and compute the mean ratio"
   ]
  },
  {
   "cell_type": "code",
   "execution_count": 9,
   "metadata": {},
   "outputs": [
    {
     "name": "stdout",
     "output_type": "stream",
     "text": [
      "Mean like/dislike ratio = 123.55\n"
     ]
    },
    {
     "data": {
      "text/html": [
       "<div>\n",
       "<style scoped>\n",
       "    .dataframe tbody tr th:only-of-type {\n",
       "        vertical-align: middle;\n",
       "    }\n",
       "\n",
       "    .dataframe tbody tr th {\n",
       "        vertical-align: top;\n",
       "    }\n",
       "\n",
       "    .dataframe thead th {\n",
       "        text-align: right;\n",
       "    }\n",
       "</style>\n",
       "<table border=\"1\" class=\"dataframe\">\n",
       "  <thead>\n",
       "    <tr style=\"text-align: right;\">\n",
       "      <th></th>\n",
       "      <th>URL</th>\n",
       "      <th>likes</th>\n",
       "      <th>dislikes</th>\n",
       "      <th>ratio</th>\n",
       "    </tr>\n",
       "  </thead>\n",
       "  <tbody>\n",
       "    <tr>\n",
       "      <th>0</th>\n",
       "      <td>https://www.youtube.com/watch?v=feLcMaiClOw</td>\n",
       "      <td>312761</td>\n",
       "      <td>19093</td>\n",
       "      <td>16.381</td>\n",
       "    </tr>\n",
       "    <tr>\n",
       "      <th>1</th>\n",
       "      <td>https://www.youtube.com/watch?v=tASwv-tkMlc</td>\n",
       "      <td>35026</td>\n",
       "      <td>165</td>\n",
       "      <td>212.279</td>\n",
       "    </tr>\n",
       "    <tr>\n",
       "      <th>2</th>\n",
       "      <td>https://www.youtube.com/watch?v=3U2dNKBM28o</td>\n",
       "      <td>126427</td>\n",
       "      <td>6010</td>\n",
       "      <td>21.036</td>\n",
       "    </tr>\n",
       "    <tr>\n",
       "      <th>3</th>\n",
       "      <td>https://www.youtube.com/watch?v=1cPDfXU95Xw</td>\n",
       "      <td>23783</td>\n",
       "      <td>18</td>\n",
       "      <td>1321.278</td>\n",
       "    </tr>\n",
       "    <tr>\n",
       "      <th>4</th>\n",
       "      <td>https://www.youtube.com/watch?v=pptIU_ZLlOo</td>\n",
       "      <td>4600</td>\n",
       "      <td>7</td>\n",
       "      <td>657.143</td>\n",
       "    </tr>\n",
       "    <tr>\n",
       "      <th>5</th>\n",
       "      <td>https://www.youtube.com/watch?v=ClQ-ymoXJZc</td>\n",
       "      <td>1079676</td>\n",
       "      <td>8874</td>\n",
       "      <td>121.667</td>\n",
       "    </tr>\n",
       "    <tr>\n",
       "      <th>6</th>\n",
       "      <td>https://www.youtube.com/watch?v=8EJ3zbKTWQ8</td>\n",
       "      <td>11371069</td>\n",
       "      <td>1420624</td>\n",
       "      <td>8.004</td>\n",
       "    </tr>\n",
       "    <tr>\n",
       "      <th>7</th>\n",
       "      <td>https://www.youtube.com/watch?v=t99KH0TR-J4</td>\n",
       "      <td>1435738</td>\n",
       "      <td>33092</td>\n",
       "      <td>43.386</td>\n",
       "    </tr>\n",
       "    <tr>\n",
       "      <th>8</th>\n",
       "      <td>https://www.youtube.com/watch?v=DovdIspaqmw</td>\n",
       "      <td>146007</td>\n",
       "      <td>5324</td>\n",
       "      <td>27.424</td>\n",
       "    </tr>\n",
       "    <tr>\n",
       "      <th>9</th>\n",
       "      <td>https://www.youtube.com/watch?v=DQQRjFzB8gY</td>\n",
       "      <td>870202</td>\n",
       "      <td>49922</td>\n",
       "      <td>17.431</td>\n",
       "    </tr>\n",
       "  </tbody>\n",
       "</table>\n",
       "</div>"
      ],
      "text/plain": [
       "                                           URL     likes  dislikes     ratio\n",
       "0  https://www.youtube.com/watch?v=feLcMaiClOw    312761     19093    16.381\n",
       "1  https://www.youtube.com/watch?v=tASwv-tkMlc     35026       165   212.279\n",
       "2  https://www.youtube.com/watch?v=3U2dNKBM28o    126427      6010    21.036\n",
       "3  https://www.youtube.com/watch?v=1cPDfXU95Xw     23783        18  1321.278\n",
       "4  https://www.youtube.com/watch?v=pptIU_ZLlOo      4600         7   657.143\n",
       "5  https://www.youtube.com/watch?v=ClQ-ymoXJZc   1079676      8874   121.667\n",
       "6  https://www.youtube.com/watch?v=8EJ3zbKTWQ8  11371069   1420624     8.004\n",
       "7  https://www.youtube.com/watch?v=t99KH0TR-J4   1435738     33092    43.386\n",
       "8  https://www.youtube.com/watch?v=DovdIspaqmw    146007      5324    27.424\n",
       "9  https://www.youtube.com/watch?v=DQQRjFzB8gY    870202     49922    17.431"
      ]
     },
     "execution_count": 9,
     "metadata": {},
     "output_type": "execute_result"
    }
   ],
   "source": [
    "likes_df['ratio'] = ratios.astype('float64') \n",
    "mean_ratio = ratios.mean()\n",
    "print(f\"Mean like/dislike ratio = {mean_ratio :.2f}\")\n",
    "likes_df.head(10)"
   ]
  },
  {
   "cell_type": "markdown",
   "metadata": {},
   "source": [
    "We will use the data in this dataframe as the baseline for the sentiment analysis.\n",
    "\n",
    "This process is going to take a long time to complete, even with multiprocessing. \n",
    "\n",
    "Let's start by collecting the comments.\n",
    "The results will be saved to a file, so there's no need to run this cell more than once if everything goes well."
   ]
  },
  {
   "cell_type": "code",
   "execution_count": 10,
   "metadata": {},
   "outputs": [],
   "source": [
    "# from get_video import get_id, get_comments\n",
    "# import googleapiclient.discovery\n",
    "\n",
    "# urls = list(likes_df[\"URL\"])\n",
    "\n",
    "# target_dir = f\"{os.getcwd()}/Data\"\n",
    "# if not os.path.exists(target_dir):\n",
    "#     os.mkdir(target_dir)\n",
    "\n",
    "# for url in urls:\n",
    "#     video_id = get_id(url)\n",
    "#     try:\n",
    "#         comments = get_comments(url)\n",
    "#     except googleapiclient.errors.HttpError:\n",
    "#         continue\n",
    "#     utils.move_dir(f\"comments_{video_id}.json\", target_dir)"
   ]
  },
  {
   "cell_type": "markdown",
   "metadata": {},
   "source": [
    "There is a problem: some of the files have very few comments, and we need at least 500. So, we will have to remove all files with less than 500 comments"
   ]
  },
  {
   "cell_type": "code",
   "execution_count": 11,
   "metadata": {},
   "outputs": [],
   "source": [
    "# target_dir = f\"{os.getcwd()}\\\\Data\"\n",
    "# trash = f\"{os.getcwd()}\\\\Trash\"\n",
    "\n",
    "# checkpoints = {int(len(links) * perc): perc * 100 for perc in [0.25, 0.5, 0.75, 0.9, 1]} # same as before\n",
    "\n",
    "# if not os.path.exists(trash):\n",
    "#     os.mkdir(trash)\n",
    "\n",
    "# data = os.listdir(target_dir)\n",
    "\n",
    "# start =  time.time()\n",
    "\n",
    "# for i, file in enumerate(data):\n",
    "#     current_time = time.time()\n",
    "#     elapsed_time = current_time - start\n",
    "#     filepath = os.path.join(target_dir, file)\n",
    "#     content = load_comments(filepath)\n",
    "#     if len(content) < 500:\n",
    "#         utils.move_dir(filename = file, destination = trash, source = target_dir)\n",
    "#     if i + 1 in checkpoints:\n",
    "#         print(f\"{checkpoints[i+1] :.0f}% of the videos have been analyzed\\nTime elapsed: {elapsed_time :.2f} seconds\") \n",
    "# trash_list = os.listdir(trash)\n",
    "\n",
    "# print(f\"<{len(trash_list)}> files moved\")"
   ]
  },
  {
   "cell_type": "markdown",
   "metadata": {},
   "source": [
    "Quick sanity check:"
   ]
  },
  {
   "cell_type": "code",
   "execution_count": 12,
   "metadata": {},
   "outputs": [],
   "source": [
    "# target_dir = f\"{os.getcwd()}\\\\Data\"\n",
    "\n",
    "# data = os.listdir(target_dir)\n",
    "# print(f\"This directory contains <{len(data)}> files\")\n",
    "# for file in data:\n",
    "#     filepath = os.path.join(target_dir, file)\n",
    "#     content = load_comments(filepath)\n",
    "#     print(len(content))"
   ]
  },
  {
   "cell_type": "markdown",
   "metadata": {},
   "source": [
    "Great! We have over 500 videos left, each with at least 500 comments. All that's left to do is run the sentiment analysis on each video. This is going to take a lot of time, which means we'll have to do it in batches. 100 videos per batch seems feasible, so let's do that. "
   ]
  },
  {
   "cell_type": "code",
   "execution_count": 13,
   "metadata": {},
   "outputs": [],
   "source": [
    "# %run split_folder__.py \"F:\\Desktop\\Scuola\\Uni\\Y3\\S2\\Thesis\\Project\\Main project\\GetYoutubeComments\\Data\" \n",
    "# #Obtained from https://gist.github.com/zupo/5849843"
   ]
  },
  {
   "cell_type": "markdown",
   "metadata": {},
   "source": [
    "Another sanity check:"
   ]
  },
  {
   "cell_type": "code",
   "execution_count": 14,
   "metadata": {},
   "outputs": [],
   "source": [
    "# target_dir = f\"{os.getcwd()}\\\\Data\\\\Batch_1\"\n",
    "# data = os.listdir(target_dir)\n",
    "# print(len(data))"
   ]
  },
  {
   "cell_type": "markdown",
   "metadata": {},
   "source": [
    "Now we can finally start the analysis"
   ]
  },
  {
   "cell_type": "code",
   "execution_count": 15,
   "metadata": {},
   "outputs": [],
   "source": [
    "# from get_video import load_comments\n",
    "\n",
    "# batch_6 = f\"{os.getcwd()}\\\\Data\\\\Batch_6\"\n",
    "# data_6 = os.listdir(batch_6)\n",
    "\n",
    "# os.chdir(batch_6)\n",
    "\n",
    "# for file in data_6:\n",
    "#     if file.startswith(\"analysis_\"): \n",
    "#         continue\n",
    "#     else:\n",
    "#         start = time.time()\n",
    "#         filename = f\"{batch_6}\\\\{file}\"\n",
    "#         content = load_comments(filename)\n",
    "\n",
    "#         with Pool() as p:\n",
    "#             tr_comment = p.map(utils.translate, content)\n",
    "\n",
    "#         bert_scores = utils.bert_classifier(content)\n",
    "\n",
    "#         df_list = []\n",
    "#         scores_list = []\n",
    "\n",
    "#         with Pool() as p:\n",
    "#             analysis1 = p.map(utils.vader_classifier, tr_comment)\n",
    "#             analysis2 = p.map(utils.textblob_classifier, tr_comment)\n",
    "#             scores_list.append(analysis1)\n",
    "#             scores_list.append(analysis2)\n",
    "\n",
    "#         for c, v_score, t_score in zip(content, scores_list[0], scores_list[1]):\n",
    "#             df_dict = {\n",
    "#                 \"Comment\": c,\n",
    "#                 \"Vader score\": v_score,\n",
    "#                 \"TextBlob score\": t_score,\n",
    "#             }\n",
    "#             df_list.append(df_dict)\n",
    "\n",
    "#         df = pd.DataFrame(df_list)\n",
    "\n",
    "#         series_bert = pd.Series(bert_scores)\n",
    "#         df[\"BERT score\"] = series_bert\n",
    "\n",
    "#         vader_labels = utils.generate_labels(df[\"Vader score\"], \"vader\")\n",
    "#         blob_labels = utils.generate_labels(df[\"TextBlob score\"], \"blob\")\n",
    "#         bert_labels = utils.generate_labels(df[\"BERT score\"], \"bert\")\n",
    "\n",
    "#         vader_labels_series = pd.Series(vader_labels)\n",
    "#         blob_labels_series = pd.Series(blob_labels)\n",
    "#         bert_labels_series = pd.Series(bert_labels)\n",
    "\n",
    "#         df[\"Vader label\"] = vader_labels_series\n",
    "#         df[\"TextBlob label\"] = blob_labels_series\n",
    "#         df[\"BERT label\"] = bert_labels_series\n",
    "\n",
    "#         df = df[\n",
    "#             [\n",
    "#                 \"Comment\",\n",
    "#                 \"Vader score\",\n",
    "#                 \"Vader label\",\n",
    "#                 \"TextBlob score\",\n",
    "#                 \"TextBlob label\",\n",
    "#                 \"BERT score\",\n",
    "#                 \"BERT label\",\n",
    "#             ]\n",
    "#         ]\n",
    "\n",
    "#         end = time.time()\n",
    "#         time_taken = end - start\n",
    "#         print(f\"Processed file <{file}>\\nTime taken: <{time_taken}> seconds\")\n",
    "#         utils.save_analysis(df, file)\n",
    "\n",
    "# os.chdir(\"F:\\\\Desktop\\\\Scuola\\\\Uni\\\\Y3\\\\S2\\\\Thesis\\\\Project\\\\Main project\\\\GetYoutubeComments\") # Reset cwd for next batch"
   ]
  },
  {
   "cell_type": "markdown",
   "metadata": {},
   "source": [
    "Let's copy and merge the CSV files for easier analysis of overall trends"
   ]
  },
  {
   "cell_type": "code",
   "execution_count": 16,
   "metadata": {},
   "outputs": [],
   "source": [
    "# import shutil\n",
    "\n",
    "# folders = [\"Batch_1\", \"Batch_2\", \"Batch_3\", \"Batch_4\", \"Batch_5\", \"Batch_6\"]\n",
    "# data_dir = f\"{os.getcwd()}\\\\Data\"\n",
    "# target_dir = f\"{os.getcwd()}\\\\CSV\"\n",
    "\n",
    "# if not os.path.exists(target_dir):\n",
    "#     os.mkdir(target_dir)\n",
    "\n",
    "# for folder in folders:\n",
    "#     batch = f\"{data_dir}\\\\{folder}\"\n",
    "#     all_data = os.listdir(batch)\n",
    "#     for file in all_data:\n",
    "#         if file.endswith(\".csv\"):\n",
    "#             filename = os.path.join(batch, file)\n",
    "#             shutil.copy(filename, target_dir)            \n",
    "\n",
    "# files = os.listdir(target_dir)\n",
    "\n",
    "# combined_csv = pd.concat([pd.read_csv(f\"{target_dir}\\\\{f}\") for f in files])\n",
    "# combined_csv.to_csv(\"combined_csv.csv\", index=False, encoding=\"utf-8-sig\")\n",
    "\n",
    "# all_files = pd.read_csv(f\"{target_dir}\\\\combined_csv.csv\")\n",
    "# all_files.head(10)"
   ]
  },
  {
   "cell_type": "markdown",
   "metadata": {},
   "source": [
    "Let's get a ratio of polarities for all videos for each model and visualize it in a graph"
   ]
  },
  {
   "cell_type": "code",
   "execution_count": 18,
   "metadata": {},
   "outputs": [
    {
     "name": "stdout",
     "output_type": "stream",
     "text": [
      "Ratios: \n",
      "      Model  Positive   Neutral  Negative\n",
      "0     Vader  0.507953  0.357239  0.134808\n",
      "1  TextBlob  0.259344  0.646309  0.094347\n",
      "2      BERT  0.452432  0.244917  0.302651 \n",
      "\n"
     ]
    },
    {
     "data": {
      "image/png": "[encoded data removed]",
      "text/plain": [
       "<Figure size 440.875x360 with 1 Axes>"
      ]
     },
     "metadata": {
      "needs_background": "light"
     },
     "output_type": "display_data"
    }
   ],
   "source": [
    "target_dir = f\"{os.getcwd()}\\\\Data\\\\CSV\"\n",
    "all_files = pd.read_csv(f\"{target_dir}\\\\analysis_all_files.csv\")\n",
    "\n",
    "columns = [all_files[\"Vader label\"], all_files[\"TextBlob label\"], all_files[\"BERT label\"]]\n",
    "models = [\"Vader\", \"TextBlob\", \"BERT\"]\n",
    "df_list = []\n",
    "\n",
    "for column, model in zip(columns, models):\n",
    "    col = column.value_counts(normalize=True)\n",
    "    d = {\"Model\": model, \"Positive\": col['Positive'], \"Neutral\": col['Neutral'], \"Negative\": col['Negative']}\n",
    "    df_list.append(d)\n",
    "\n",
    "all_ratios = pd.DataFrame(df_list)\n",
    "print(\"Ratios: \")\n",
    "print(all_ratios, \"\\n\")\n",
    "\n",
    "\n",
    "proportion = all_ratios.melt(\"Model\", var_name = \"Polarity\", value_name = \"Proportion\")\n",
    "g = sns.catplot(x = \"Model\", y = \"Proportion\", hue=\"Polarity\", data = proportion, kind = \"bar\")"
   ]
  },
  {
   "cell_type": "markdown",
   "metadata": {},
   "source": [
    "Vader and BERT seem to be relatively close to each other in the ratio of their predictions, while TextBlob does not seem to follow the trend. \n",
    "Let's check if the predictions correlate:"
   ]
  },
  {
   "cell_type": "code",
   "execution_count": 19,
   "metadata": {},
   "outputs": [
    {
     "name": "stdout",
     "output_type": "stream",
     "text": [
      "Statistics: \n",
      "         Vader score  TextBlob score     BERT score\n",
      "count  339364.000000   339364.000000  339364.000000\n",
      "mean        0.255158        0.149271       0.204303\n",
      "std         0.448403        0.324981       0.459851\n",
      "min        -1.000000       -1.000000      -0.988600\n",
      "25%         0.000000        0.000000      -0.293853\n",
      "50%         0.090000        0.000000       0.308578\n",
      "75%         0.636900        0.350000       0.522687\n",
      "max         1.000000        1.000000       0.991498 \n",
      "\n",
      "Correlation matrix: \n",
      "                Vader score  TextBlob score  BERT score\n",
      "Vader score        1.000000        0.524019    0.447403\n",
      "TextBlob score     0.524019        1.000000    0.446724\n",
      "BERT score         0.447403        0.446724    1.000000\n"
     ]
    }
   ],
   "source": [
    "print(\"Statistics: \")\n",
    "print(all_files.describe(), \"\\n\")\n",
    "\n",
    "print(\"Correlation matrix: \")\n",
    "print(all_files.corr(\"pearson\"))"
   ]
  },
  {
   "cell_type": "markdown",
   "metadata": {},
   "source": [
    "They seem to all have a slightly positive relationship, which means that they are correlated to each other (albeit not very much). Let's visualize the counts for each label (for each model) in a graph"
   ]
  },
  {
   "cell_type": "code",
   "execution_count": 20,
   "metadata": {},
   "outputs": [
    {
     "data": {
      "image/png": "[encoded data removed]",
      "text/plain": [
       "<Figure size 440.875x360 with 1 Axes>"
      ]
     },
     "metadata": {
      "needs_background": "light"
     },
     "output_type": "display_data"
    }
   ],
   "source": [
    "columns = [all_files[\"Vader label\"], all_files[\"TextBlob label\"], all_files[\"BERT label\"]]\n",
    "models = [\"Vader\", \"TextBlob\", \"BERT\"]\n",
    "df_list = []\n",
    "\n",
    "for column, model in zip(columns, models):\n",
    "    col = column.value_counts()\n",
    "    d = {\"Model\": model, \"Positive\": col['Positive'], \"Neutral\": col['Neutral'], \"Negative\": col['Negative']}\n",
    "    df_list.append(d)\n",
    "\n",
    "all_labels = pd.DataFrame(df_list)\n",
    "\n",
    "counts = all_labels.melt(\"Model\", var_name = \"Polarity\", value_name = \"Counts\")\n",
    "g = sns.catplot(x = \"Model\", y = \"Counts\", hue=\"Polarity\", data = counts, kind = \"bar\")"
   ]
  },
  {
   "cell_type": "markdown",
   "metadata": {},
   "source": [
    "Let's start by making a new likes dataframe based on the videos we actually analyzed and adding the file names as a column"
   ]
  },
  {
   "cell_type": "code",
   "execution_count": 28,
   "metadata": {},
   "outputs": [
    {
     "name": "stderr",
     "output_type": "stream",
     "text": [
      "C:\\Users\\giaco\\AppData\\Local\\Temp/ipykernel_9724/1539150955.py:15: SettingWithCopyWarning: \n",
      "A value is trying to be set on a copy of a slice from a DataFrame.\n",
      "Try using .loc[row_indexer,col_indexer] = value instead\n",
      "\n",
      "See the caveats in the documentation: https://pandas.pydata.org/pandas-docs/stable/user_guide/indexing.html#returning-a-view-versus-a-copy\n",
      "  likes_df_short[\"Filename\"] = target_csv_list # add column of file names\n"
     ]
    },
    {
     "data": {
      "text/html": [
       "<div>\n",
       "<style scoped>\n",
       "    .dataframe tbody tr th:only-of-type {\n",
       "        vertical-align: middle;\n",
       "    }\n",
       "\n",
       "    .dataframe tbody tr th {\n",
       "        vertical-align: top;\n",
       "    }\n",
       "\n",
       "    .dataframe thead th {\n",
       "        text-align: right;\n",
       "    }\n",
       "</style>\n",
       "<table border=\"1\" class=\"dataframe\">\n",
       "  <thead>\n",
       "    <tr style=\"text-align: right;\">\n",
       "      <th></th>\n",
       "      <th>Filename</th>\n",
       "      <th>URL</th>\n",
       "      <th>likes</th>\n",
       "      <th>dislikes</th>\n",
       "      <th>ratio</th>\n",
       "    </tr>\n",
       "  </thead>\n",
       "  <tbody>\n",
       "    <tr>\n",
       "      <th>0</th>\n",
       "      <td>analysis_comments_-6-AnhFG3cI.csv</td>\n",
       "      <td>-6-AnhFG3cI</td>\n",
       "      <td>82893</td>\n",
       "      <td>7278</td>\n",
       "      <td>11.390</td>\n",
       "    </tr>\n",
       "    <tr>\n",
       "      <th>1</th>\n",
       "      <td>analysis_comments_-8VfKZCOo_I.csv</td>\n",
       "      <td>-8VfKZCOo_I</td>\n",
       "      <td>1235492</td>\n",
       "      <td>86190</td>\n",
       "      <td>14.335</td>\n",
       "    </tr>\n",
       "    <tr>\n",
       "      <th>2</th>\n",
       "      <td>analysis_comments_-BjZmE2gtdo.csv</td>\n",
       "      <td>-BjZmE2gtdo</td>\n",
       "      <td>2828257</td>\n",
       "      <td>104541</td>\n",
       "      <td>27.054</td>\n",
       "    </tr>\n",
       "    <tr>\n",
       "      <th>3</th>\n",
       "      <td>analysis_comments_-CmadmM5cOk.csv</td>\n",
       "      <td>-CmadmM5cOk</td>\n",
       "      <td>3477340</td>\n",
       "      <td>159145</td>\n",
       "      <td>21.850</td>\n",
       "    </tr>\n",
       "    <tr>\n",
       "      <th>4</th>\n",
       "      <td>analysis_comments_-eGEKFMHGr8.csv</td>\n",
       "      <td>-Hqp5Mwq3Zs</td>\n",
       "      <td>31247</td>\n",
       "      <td>1265</td>\n",
       "      <td>24.701</td>\n",
       "    </tr>\n",
       "    <tr>\n",
       "      <th>5</th>\n",
       "      <td>analysis_comments_-fWXLAkHmxA.csv</td>\n",
       "      <td>-L1PrZf6OTU</td>\n",
       "      <td>84421</td>\n",
       "      <td>123</td>\n",
       "      <td>686.350</td>\n",
       "    </tr>\n",
       "    <tr>\n",
       "      <th>6</th>\n",
       "      <td>analysis_comments_-Hqp5Mwq3Zs.csv</td>\n",
       "      <td>-eGEKFMHGr8</td>\n",
       "      <td>292337</td>\n",
       "      <td>23428</td>\n",
       "      <td>12.478</td>\n",
       "    </tr>\n",
       "    <tr>\n",
       "      <th>7</th>\n",
       "      <td>analysis_comments_-L1PrZf6OTU.csv</td>\n",
       "      <td>-fWXLAkHmxA</td>\n",
       "      <td>196533</td>\n",
       "      <td>1474</td>\n",
       "      <td>133.333</td>\n",
       "    </tr>\n",
       "    <tr>\n",
       "      <th>8</th>\n",
       "      <td>analysis_comments_-s23GrMq-wA.csv</td>\n",
       "      <td>-s23GrMq-wA</td>\n",
       "      <td>70369</td>\n",
       "      <td>2800</td>\n",
       "      <td>25.132</td>\n",
       "    </tr>\n",
       "    <tr>\n",
       "      <th>9</th>\n",
       "      <td>analysis_comments_-tJYN-eG1zk.csv</td>\n",
       "      <td>-tJYN-eG1zk</td>\n",
       "      <td>5014176</td>\n",
       "      <td>136806</td>\n",
       "      <td>36.652</td>\n",
       "    </tr>\n",
       "  </tbody>\n",
       "</table>\n",
       "</div>"
      ],
      "text/plain": [
       "                            Filename          URL    likes  dislikes    ratio\n",
       "0  analysis_comments_-6-AnhFG3cI.csv  -6-AnhFG3cI    82893      7278   11.390\n",
       "1  analysis_comments_-8VfKZCOo_I.csv  -8VfKZCOo_I  1235492     86190   14.335\n",
       "2  analysis_comments_-BjZmE2gtdo.csv  -BjZmE2gtdo  2828257    104541   27.054\n",
       "3  analysis_comments_-CmadmM5cOk.csv  -CmadmM5cOk  3477340    159145   21.850\n",
       "4  analysis_comments_-eGEKFMHGr8.csv  -Hqp5Mwq3Zs    31247      1265   24.701\n",
       "5  analysis_comments_-fWXLAkHmxA.csv  -L1PrZf6OTU    84421       123  686.350\n",
       "6  analysis_comments_-Hqp5Mwq3Zs.csv  -eGEKFMHGr8   292337     23428   12.478\n",
       "7  analysis_comments_-L1PrZf6OTU.csv  -fWXLAkHmxA   196533      1474  133.333\n",
       "8  analysis_comments_-s23GrMq-wA.csv  -s23GrMq-wA    70369      2800   25.132\n",
       "9  analysis_comments_-tJYN-eG1zk.csv  -tJYN-eG1zk  5014176    136806   36.652"
      ]
     },
     "execution_count": 28,
     "metadata": {},
     "output_type": "execute_result"
    }
   ],
   "source": [
    "csv_dir = f\"{os.getcwd()}\\\\Data\\\\CSV\"\n",
    "csv_list = os.listdir(csv_dir)\n",
    "\n",
    "target_csv_list = [f for f in csv_list if f.startswith(\"analysis_comments\")] # only taking analysis files\n",
    "\n",
    "likes_df[\"URL\"] = likes_df[\"URL\"].apply(lambda x: x[-11:]) # transform URL into ID for easier comparison\n",
    "likes_df.sort_values(\"URL\", inplace = True) # sort by URL\n",
    "\n",
    "url_id = [url for url in likes_df[\"URL\"]] # get all video IDs from URLs\n",
    "file_id =[filename[18:-4] for filename in target_csv_list] # get ID part of filename\n",
    "files = sorted(list(set(url_id).intersection(file_id))) # only keep the 569 IDs that we used\n",
    "\n",
    "likes_df_short = likes_df[likes_df[\"URL\"].isin(files)] # make new dataframe based on files list\n",
    "likes_df_short.reset_index(inplace = True) # reset index\n",
    "likes_df_short[\"Filename\"] = target_csv_list # add column of file names\n",
    "likes_df_short = likes_df_short[[\"Filename\", \"URL\", \"likes\", \"dislikes\", \"ratio\"]] # rearrange columns\n",
    "\n",
    "#likes_df_short.to_csv(f\"{csv_dir}\\\\ratio_all_videos.csv\") probably don't want to modify this file\n",
    "\n",
    "likes_df_short.head(10)        "
   ]
  },
  {
   "cell_type": "markdown",
   "metadata": {},
   "source": [
    "To predict the ratio of dislikes, we will assign points to each comment based on their polarity: 1 point for positive, 0 for neutral, and -1 for negative"
   ]
  },
  {
   "cell_type": "code",
   "execution_count": 23,
   "metadata": {},
   "outputs": [],
   "source": [
    "test = likes_df_short[\"Filename\"].iloc[0]\n",
    "\n",
    "p = pd.read_csv(f\"{csv_dir}\\\\{test}\")\n",
    "\n",
    "v_score, t_score, b_score  = [], [], []\n",
    "for l_v, l_t, l_b in zip(p[\"Vader label\"], p[\"TextBlob label\"], p[\"BERT label\"]):\n",
    "    v_score.append(utils.generate_score(l_v))\n",
    "    t_score.append(utils.generate_score(l_t))\n",
    "    b_score.append(utils.generate_score(l_b))\n",
    "\n",
    "\n"
   ]
  },
  {
   "cell_type": "code",
   "execution_count": null,
   "metadata": {},
   "outputs": [],
   "source": []
  }
 ],
 "metadata": {
  "interpreter": {
   "hash": "a0c3480dd823bfbce7c29a655c10633f6c16ea9c90c0e2bbbb7d47ca3445a085"
  },
  "kernelspec": {
   "display_name": "Python 3.10.4 64-bit",
   "language": "python",
   "name": "python3"
  },
  "language_info": {
   "codemirror_mode": {
    "name": "ipython",
    "version": 3
   },
   "file_extension": ".py",
   "mimetype": "text/x-python",
   "name": "python",
   "nbconvert_exporter": "python",
   "pygments_lexer": "ipython3",
   "version": "3.10.4"
  },
  "orig_nbformat": 4
 },
 "nbformat": 4,
 "nbformat_minor": 2
}
