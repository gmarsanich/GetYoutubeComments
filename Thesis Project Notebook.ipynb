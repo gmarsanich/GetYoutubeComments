{
 "cells": [
  {
   "cell_type": "markdown",
   "metadata": {},
   "source": [
    "# Thesis project notebook "
   ]
  },
  {
   "cell_type": "markdown",
   "metadata": {},
   "source": [
    "##### Uncomment and run the cell below to automatically install the required libraries"
   ]
  },
  {
   "cell_type": "code",
   "execution_count": 1,
   "metadata": {},
   "outputs": [],
   "source": [
    "# %pip install -r requirements.txt"
   ]
  },
  {
   "cell_type": "markdown",
   "metadata": {},
   "source": [
    "Start by importing the required libraries"
   ]
  },
  {
   "cell_type": "code",
   "execution_count": 34,
   "metadata": {},
   "outputs": [],
   "source": [
    "import json\n",
    "import os\n",
    "from multiprocessing import Pool\n",
    "import pandas as pd\n",
    "import utils\n",
    "import time\n",
    "import seaborn as sns\n",
    "import matplotlib.pyplot as plt\n",
    "from scipy.stats import pearsonr, spearmanr\n",
    "from sklearn.metrics import mean_absolute_error\n",
    "import statistics"
   ]
  },
  {
   "cell_type": "markdown",
   "metadata": {},
   "source": [
    "Let's load in the search terms we need to use"
   ]
  },
  {
   "cell_type": "code",
   "execution_count": 3,
   "metadata": {},
   "outputs": [
    {
     "data": {
      "text/html": [
       "<div>\n",
       "<style scoped>\n",
       "    .dataframe tbody tr th:only-of-type {\n",
       "        vertical-align: middle;\n",
       "    }\n",
       "\n",
       "    .dataframe tbody tr th {\n",
       "        vertical-align: top;\n",
       "    }\n",
       "\n",
       "    .dataframe thead th {\n",
       "        text-align: right;\n",
       "    }\n",
       "</style>\n",
       "<table border=\"1\" class=\"dataframe\">\n",
       "  <thead>\n",
       "    <tr style=\"text-align: right;\">\n",
       "      <th></th>\n",
       "      <th>#</th>\n",
       "      <th>Keyword</th>\n",
       "      <th>Search Volume</th>\n",
       "    </tr>\n",
       "  </thead>\n",
       "  <tbody>\n",
       "    <tr>\n",
       "      <th>0</th>\n",
       "      <td>1</td>\n",
       "      <td>bts</td>\n",
       "      <td>16,723,304</td>\n",
       "    </tr>\n",
       "    <tr>\n",
       "      <th>1</th>\n",
       "      <td>2</td>\n",
       "      <td>pewdiepie</td>\n",
       "      <td>16,495,659</td>\n",
       "    </tr>\n",
       "    <tr>\n",
       "      <th>2</th>\n",
       "      <td>3</td>\n",
       "      <td>asmr</td>\n",
       "      <td>14,655,088</td>\n",
       "    </tr>\n",
       "    <tr>\n",
       "      <th>3</th>\n",
       "      <td>4</td>\n",
       "      <td>billie eilish</td>\n",
       "      <td>13,801,247</td>\n",
       "    </tr>\n",
       "    <tr>\n",
       "      <th>4</th>\n",
       "      <td>5</td>\n",
       "      <td>baby shark</td>\n",
       "      <td>12,110,100</td>\n",
       "    </tr>\n",
       "    <tr>\n",
       "      <th>5</th>\n",
       "      <td>6</td>\n",
       "      <td>old town road</td>\n",
       "      <td>10,456,524</td>\n",
       "    </tr>\n",
       "    <tr>\n",
       "      <th>6</th>\n",
       "      <td>7</td>\n",
       "      <td>music</td>\n",
       "      <td>10,232,134</td>\n",
       "    </tr>\n",
       "    <tr>\n",
       "      <th>7</th>\n",
       "      <td>8</td>\n",
       "      <td>badabun</td>\n",
       "      <td>10,188,997</td>\n",
       "    </tr>\n",
       "    <tr>\n",
       "      <th>8</th>\n",
       "      <td>9</td>\n",
       "      <td>blackpink</td>\n",
       "      <td>9,580,131</td>\n",
       "    </tr>\n",
       "    <tr>\n",
       "      <th>9</th>\n",
       "      <td>10</td>\n",
       "      <td>fortnite</td>\n",
       "      <td>9,117,342</td>\n",
       "    </tr>\n",
       "  </tbody>\n",
       "</table>\n",
       "</div>"
      ],
      "text/plain": [
       "    #        Keyword Search Volume\n",
       "0   1            bts    16,723,304\n",
       "1   2      pewdiepie    16,495,659\n",
       "2   3           asmr    14,655,088\n",
       "3   4  billie eilish    13,801,247\n",
       "4   5     baby shark    12,110,100\n",
       "5   6  old town road    10,456,524\n",
       "6   7          music    10,232,134\n",
       "7   8        badabun    10,188,997\n",
       "8   9      blackpink     9,580,131\n",
       "9  10       fortnite     9,117,342"
      ]
     },
     "execution_count": 3,
     "metadata": {},
     "output_type": "execute_result"
    }
   ],
   "source": [
    "terms = pd.read_csv(f'{os.getcwd()}\\\\Data\\\\search.tsv', sep='\\t') # obtained from https://ahrefs.com/blog/top-youtube-searches/\n",
    "terms.head(10)"
   ]
  },
  {
   "cell_type": "markdown",
   "metadata": {},
   "source": [
    "We can use these search terms to get YouTube video links which we can then use to gather comments. To save some time (and some precious API quota) we'll use the top 50 searched terms\n",
    "\n",
    "This cell should not be run more than once a month. To make sure you never have to run it again, save the output to a file and load it for subsequent runs"
   ]
  },
  {
   "cell_type": "code",
   "execution_count": 4,
   "metadata": {},
   "outputs": [],
   "source": [
    "# from get_video import get_videos\n",
    "# half = terms.head(50)\n",
    "# search_terms = half[\"Keyword\"]\n",
    "# urls = []\n",
    "\n",
    "# for term in search_terms:\n",
    "#     urls.append(get_videos(term))\n",
    "\n",
    "# links = list(set(item for sublist in urls for item in sublist))\n",
    "\n",
    "# with open(f\"{os.getcwd()}\\\\Data\\\\videos__.json\", \"w\") as f:\n",
    "#     json.dump(links, f)"
   ]
  },
  {
   "cell_type": "code",
   "execution_count": 5,
   "metadata": {},
   "outputs": [
    {
     "name": "stdout",
     "output_type": "stream",
     "text": [
      "This file contains <911> links\n"
     ]
    }
   ],
   "source": [
    "with open(f\"{os.getcwd()}\\\\Data\\\\videos__.json\", \"r\") as f:\n",
    "    links = json.load(f)\n",
    "\n",
    "print(f\"This file contains <{len(links)}> links\")"
   ]
  },
  {
   "cell_type": "markdown",
   "metadata": {},
   "source": [
    "This is a lot of links (and therefore a lot of data). However, taking into account the rate of analysis and the amount of comments per video, we realize that it's going to take a lot of time: many of these videos have around 20,000 comments minimum. Knowing that it takes this program around 30 seconds to analyze 100 comments, analyzing all comments would take days. \n",
    "\n",
    "Instead of waiting for 9 days, we can make a compromise: we can take a sample of 500 comments per video. "
   ]
  },
  {
   "cell_type": "markdown",
   "metadata": {},
   "source": [
    "Now that we have our list of links, we can start collecting data. Let's do the fast part first: collecting the like/dislike ratio and saving it somewhere convenient for later. \n",
    "\n",
    "As before, this cell should ideally be run once only as it takes a bit of time - around 15 minutes. If the notebook needs to be restarted, you should load the csv file instead."
   ]
  },
  {
   "cell_type": "code",
   "execution_count": 6,
   "metadata": {},
   "outputs": [],
   "source": [
    "# from get_video import get_likes\n",
    "# start_time = time.time()\n",
    "\n",
    "# with open(\"{os.getcwd()}\\\\Data\\\\videos__.json\", \"r\") as f:\n",
    "#     links = json.load(f)\n",
    "# df_list = []\n",
    "\n",
    "# checkpoints = {int(len(links) * perc): perc * 100 for perc in [0.25, 0.5, 0.75, 0.9, 1]} # same as before\n",
    "\n",
    "# for i, link in enumerate(links):\n",
    "#     current_time = time.time()\n",
    "#     elapsed_time = current_time - start_time\n",
    "#     data = get_likes(link)\n",
    "#     df_list.append(data)\n",
    "#     time.sleep(1) # otherwise we will get an HTTP error\n",
    "#     if i + 1 in checkpoints:\n",
    "#         print(f\"{checkpoints[i+1] :.0f}% of the videos have been analyzed\\nTime elapsed: {elapsed_time :.2f} seconds\")  \n",
    "     \n",
    "# df = pd.DataFrame(df_list)\n",
    "# utils.save_analysis(df, \"top50_ratio\")"
   ]
  },
  {
   "cell_type": "markdown",
   "metadata": {},
   "source": [
    "Let's look at the first 10 entries"
   ]
  },
  {
   "cell_type": "code",
   "execution_count": 7,
   "metadata": {},
   "outputs": [
    {
     "data": {
      "text/html": [
       "<div>\n",
       "<style scoped>\n",
       "    .dataframe tbody tr th:only-of-type {\n",
       "        vertical-align: middle;\n",
       "    }\n",
       "\n",
       "    .dataframe tbody tr th {\n",
       "        vertical-align: top;\n",
       "    }\n",
       "\n",
       "    .dataframe thead th {\n",
       "        text-align: right;\n",
       "    }\n",
       "</style>\n",
       "<table border=\"1\" class=\"dataframe\">\n",
       "  <thead>\n",
       "    <tr style=\"text-align: right;\">\n",
       "      <th></th>\n",
       "      <th>URL</th>\n",
       "      <th>likes</th>\n",
       "      <th>dislikes</th>\n",
       "    </tr>\n",
       "  </thead>\n",
       "  <tbody>\n",
       "    <tr>\n",
       "      <th>0</th>\n",
       "      <td>https://www.youtube.com/watch?v=feLcMaiClOw</td>\n",
       "      <td>312761</td>\n",
       "      <td>19093</td>\n",
       "    </tr>\n",
       "    <tr>\n",
       "      <th>1</th>\n",
       "      <td>https://www.youtube.com/watch?v=tASwv-tkMlc</td>\n",
       "      <td>35026</td>\n",
       "      <td>165</td>\n",
       "    </tr>\n",
       "    <tr>\n",
       "      <th>2</th>\n",
       "      <td>https://www.youtube.com/watch?v=3U2dNKBM28o</td>\n",
       "      <td>126427</td>\n",
       "      <td>6010</td>\n",
       "    </tr>\n",
       "    <tr>\n",
       "      <th>3</th>\n",
       "      <td>https://www.youtube.com/watch?v=1cPDfXU95Xw</td>\n",
       "      <td>23783</td>\n",
       "      <td>18</td>\n",
       "    </tr>\n",
       "    <tr>\n",
       "      <th>4</th>\n",
       "      <td>https://www.youtube.com/watch?v=pptIU_ZLlOo</td>\n",
       "      <td>4600</td>\n",
       "      <td>7</td>\n",
       "    </tr>\n",
       "    <tr>\n",
       "      <th>5</th>\n",
       "      <td>https://www.youtube.com/watch?v=ClQ-ymoXJZc</td>\n",
       "      <td>1079676</td>\n",
       "      <td>8874</td>\n",
       "    </tr>\n",
       "    <tr>\n",
       "      <th>6</th>\n",
       "      <td>https://www.youtube.com/watch?v=8EJ3zbKTWQ8</td>\n",
       "      <td>11371069</td>\n",
       "      <td>1420624</td>\n",
       "    </tr>\n",
       "    <tr>\n",
       "      <th>7</th>\n",
       "      <td>https://www.youtube.com/watch?v=t99KH0TR-J4</td>\n",
       "      <td>1435738</td>\n",
       "      <td>33092</td>\n",
       "    </tr>\n",
       "    <tr>\n",
       "      <th>8</th>\n",
       "      <td>https://www.youtube.com/watch?v=DovdIspaqmw</td>\n",
       "      <td>146007</td>\n",
       "      <td>5324</td>\n",
       "    </tr>\n",
       "    <tr>\n",
       "      <th>9</th>\n",
       "      <td>https://www.youtube.com/watch?v=DQQRjFzB8gY</td>\n",
       "      <td>870202</td>\n",
       "      <td>49922</td>\n",
       "    </tr>\n",
       "  </tbody>\n",
       "</table>\n",
       "</div>"
      ],
      "text/plain": [
       "                                           URL     likes  dislikes\n",
       "0  https://www.youtube.com/watch?v=feLcMaiClOw    312761     19093\n",
       "1  https://www.youtube.com/watch?v=tASwv-tkMlc     35026       165\n",
       "2  https://www.youtube.com/watch?v=3U2dNKBM28o    126427      6010\n",
       "3  https://www.youtube.com/watch?v=1cPDfXU95Xw     23783        18\n",
       "4  https://www.youtube.com/watch?v=pptIU_ZLlOo      4600         7\n",
       "5  https://www.youtube.com/watch?v=ClQ-ymoXJZc   1079676      8874\n",
       "6  https://www.youtube.com/watch?v=8EJ3zbKTWQ8  11371069   1420624\n",
       "7  https://www.youtube.com/watch?v=t99KH0TR-J4   1435738     33092\n",
       "8  https://www.youtube.com/watch?v=DovdIspaqmw    146007      5324\n",
       "9  https://www.youtube.com/watch?v=DQQRjFzB8gY    870202     49922"
      ]
     },
     "execution_count": 7,
     "metadata": {},
     "output_type": "execute_result"
    }
   ],
   "source": [
    "likes_df = pd.read_csv(f\"{os.getcwd()}\\\\Data\\\\analysis_top50_ratio.csv\", index_col = 0)\n",
    "likes_df = likes_df.reset_index()\n",
    "likes_df.head(10)"
   ]
  },
  {
   "cell_type": "markdown",
   "metadata": {},
   "source": [
    "This is good data, but it is not complete. We are still missing the ratio of likes to dislikes. Let's compute that now!"
   ]
  },
  {
   "cell_type": "code",
   "execution_count": 8,
   "metadata": {},
   "outputs": [
    {
     "data": {
      "text/plain": [
       "0      16.381\n",
       "1     212.279\n",
       "2      21.036\n",
       "3    1321.278\n",
       "4     657.143\n",
       "5     121.667\n",
       "6       8.004\n",
       "7      43.386\n",
       "8      27.424\n",
       "9      17.431\n",
       "dtype: float64"
      ]
     },
     "execution_count": 8,
     "metadata": {},
     "output_type": "execute_result"
    }
   ],
   "source": [
    "likes, dislikes = likes_df['likes'], likes_df['dislikes']\n",
    "\n",
    "ratios = []\n",
    "\n",
    "for like, dislike in zip(likes, dislikes):\n",
    "    if like == 0 or dislike == 0:\n",
    "        ratio = 0\n",
    "        ratios.append(ratio)\n",
    "    else:\n",
    "        ratio = round(like / dislike, 3)\n",
    "        ratios.append(ratio)\n",
    "\n",
    "ratios = pd.Series(ratios)\n",
    "ratios.head(10)"
   ]
  },
  {
   "cell_type": "markdown",
   "metadata": {},
   "source": [
    "Let's add this list to our dataframe and compute the mean ratio"
   ]
  },
  {
   "cell_type": "code",
   "execution_count": 9,
   "metadata": {},
   "outputs": [
    {
     "name": "stdout",
     "output_type": "stream",
     "text": [
      "Mean like/dislike ratio = 123.55\n"
     ]
    },
    {
     "data": {
      "text/html": [
       "<div>\n",
       "<style scoped>\n",
       "    .dataframe tbody tr th:only-of-type {\n",
       "        vertical-align: middle;\n",
       "    }\n",
       "\n",
       "    .dataframe tbody tr th {\n",
       "        vertical-align: top;\n",
       "    }\n",
       "\n",
       "    .dataframe thead th {\n",
       "        text-align: right;\n",
       "    }\n",
       "</style>\n",
       "<table border=\"1\" class=\"dataframe\">\n",
       "  <thead>\n",
       "    <tr style=\"text-align: right;\">\n",
       "      <th></th>\n",
       "      <th>URL</th>\n",
       "      <th>likes</th>\n",
       "      <th>dislikes</th>\n",
       "      <th>ratio</th>\n",
       "    </tr>\n",
       "  </thead>\n",
       "  <tbody>\n",
       "    <tr>\n",
       "      <th>0</th>\n",
       "      <td>https://www.youtube.com/watch?v=feLcMaiClOw</td>\n",
       "      <td>312761</td>\n",
       "      <td>19093</td>\n",
       "      <td>16.381</td>\n",
       "    </tr>\n",
       "    <tr>\n",
       "      <th>1</th>\n",
       "      <td>https://www.youtube.com/watch?v=tASwv-tkMlc</td>\n",
       "      <td>35026</td>\n",
       "      <td>165</td>\n",
       "      <td>212.279</td>\n",
       "    </tr>\n",
       "    <tr>\n",
       "      <th>2</th>\n",
       "      <td>https://www.youtube.com/watch?v=3U2dNKBM28o</td>\n",
       "      <td>126427</td>\n",
       "      <td>6010</td>\n",
       "      <td>21.036</td>\n",
       "    </tr>\n",
       "    <tr>\n",
       "      <th>3</th>\n",
       "      <td>https://www.youtube.com/watch?v=1cPDfXU95Xw</td>\n",
       "      <td>23783</td>\n",
       "      <td>18</td>\n",
       "      <td>1321.278</td>\n",
       "    </tr>\n",
       "    <tr>\n",
       "      <th>4</th>\n",
       "      <td>https://www.youtube.com/watch?v=pptIU_ZLlOo</td>\n",
       "      <td>4600</td>\n",
       "      <td>7</td>\n",
       "      <td>657.143</td>\n",
       "    </tr>\n",
       "    <tr>\n",
       "      <th>5</th>\n",
       "      <td>https://www.youtube.com/watch?v=ClQ-ymoXJZc</td>\n",
       "      <td>1079676</td>\n",
       "      <td>8874</td>\n",
       "      <td>121.667</td>\n",
       "    </tr>\n",
       "    <tr>\n",
       "      <th>6</th>\n",
       "      <td>https://www.youtube.com/watch?v=8EJ3zbKTWQ8</td>\n",
       "      <td>11371069</td>\n",
       "      <td>1420624</td>\n",
       "      <td>8.004</td>\n",
       "    </tr>\n",
       "    <tr>\n",
       "      <th>7</th>\n",
       "      <td>https://www.youtube.com/watch?v=t99KH0TR-J4</td>\n",
       "      <td>1435738</td>\n",
       "      <td>33092</td>\n",
       "      <td>43.386</td>\n",
       "    </tr>\n",
       "    <tr>\n",
       "      <th>8</th>\n",
       "      <td>https://www.youtube.com/watch?v=DovdIspaqmw</td>\n",
       "      <td>146007</td>\n",
       "      <td>5324</td>\n",
       "      <td>27.424</td>\n",
       "    </tr>\n",
       "    <tr>\n",
       "      <th>9</th>\n",
       "      <td>https://www.youtube.com/watch?v=DQQRjFzB8gY</td>\n",
       "      <td>870202</td>\n",
       "      <td>49922</td>\n",
       "      <td>17.431</td>\n",
       "    </tr>\n",
       "  </tbody>\n",
       "</table>\n",
       "</div>"
      ],
      "text/plain": [
       "                                           URL     likes  dislikes     ratio\n",
       "0  https://www.youtube.com/watch?v=feLcMaiClOw    312761     19093    16.381\n",
       "1  https://www.youtube.com/watch?v=tASwv-tkMlc     35026       165   212.279\n",
       "2  https://www.youtube.com/watch?v=3U2dNKBM28o    126427      6010    21.036\n",
       "3  https://www.youtube.com/watch?v=1cPDfXU95Xw     23783        18  1321.278\n",
       "4  https://www.youtube.com/watch?v=pptIU_ZLlOo      4600         7   657.143\n",
       "5  https://www.youtube.com/watch?v=ClQ-ymoXJZc   1079676      8874   121.667\n",
       "6  https://www.youtube.com/watch?v=8EJ3zbKTWQ8  11371069   1420624     8.004\n",
       "7  https://www.youtube.com/watch?v=t99KH0TR-J4   1435738     33092    43.386\n",
       "8  https://www.youtube.com/watch?v=DovdIspaqmw    146007      5324    27.424\n",
       "9  https://www.youtube.com/watch?v=DQQRjFzB8gY    870202     49922    17.431"
      ]
     },
     "execution_count": 9,
     "metadata": {},
     "output_type": "execute_result"
    }
   ],
   "source": [
    "likes_df['ratio'] = ratios.astype('float64') \n",
    "mean_ratio = ratios.mean()\n",
    "print(f\"Mean like/dislike ratio = {mean_ratio :.2f}\")\n",
    "likes_df.head(10)"
   ]
  },
  {
   "cell_type": "markdown",
   "metadata": {},
   "source": [
    "We will use the data in this dataframe as the baseline for the sentiment analysis.\n",
    "\n",
    "This process is going to take a long time to complete, even with multiprocessing. \n",
    "\n",
    "Let's start by collecting the comments.\n",
    "The results will be saved to a file, so there's no need to run this cell more than once if everything goes well."
   ]
  },
  {
   "cell_type": "code",
   "execution_count": 10,
   "metadata": {},
   "outputs": [],
   "source": [
    "# from get_video import get_id, get_comments\n",
    "# import googleapiclient.discovery\n",
    "\n",
    "# urls = list(likes_df[\"URL\"])\n",
    "\n",
    "# target_dir = f\"{os.getcwd()}/Data\"\n",
    "# if not os.path.exists(target_dir):\n",
    "#     os.mkdir(target_dir)\n",
    "\n",
    "# for url in urls:\n",
    "#     video_id = get_id(url)\n",
    "#     try:\n",
    "#         comments = get_comments(url)\n",
    "#     except googleapiclient.errors.HttpError:\n",
    "#         continue\n",
    "#     utils.move_dir(f\"comments_{video_id}.json\", target_dir)"
   ]
  },
  {
   "cell_type": "markdown",
   "metadata": {},
   "source": [
    "There is a problem: some of the files have very few comments, and we need at least 500. So, we will have to remove all files with less than 500 comments"
   ]
  },
  {
   "cell_type": "code",
   "execution_count": 11,
   "metadata": {},
   "outputs": [],
   "source": [
    "# target_dir = f\"{os.getcwd()}\\\\Data\"\n",
    "# trash = f\"{os.getcwd()}\\\\Trash\"\n",
    "\n",
    "# checkpoints = {int(len(links) * perc): perc * 100 for perc in [0.25, 0.5, 0.75, 0.9, 1]} # same as before\n",
    "\n",
    "# if not os.path.exists(trash):\n",
    "#     os.mkdir(trash)\n",
    "\n",
    "# data = os.listdir(target_dir)\n",
    "\n",
    "# start =  time.time()\n",
    "\n",
    "# for i, file in enumerate(data):\n",
    "#     current_time = time.time()\n",
    "#     elapsed_time = current_time - start\n",
    "#     filepath = os.path.join(target_dir, file)\n",
    "#     content = load_comments(filepath)\n",
    "#     if len(content) < 500:\n",
    "#         utils.move_dir(filename = file, destination = trash, source = target_dir)\n",
    "#     if i + 1 in checkpoints:\n",
    "#         print(f\"{checkpoints[i+1] :.0f}% of the videos have been analyzed\\nTime elapsed: {elapsed_time :.2f} seconds\") \n",
    "# trash_list = os.listdir(trash)\n",
    "\n",
    "# print(f\"<{len(trash_list)}> files moved\")"
   ]
  },
  {
   "cell_type": "markdown",
   "metadata": {},
   "source": [
    "Quick sanity check:"
   ]
  },
  {
   "cell_type": "code",
   "execution_count": 12,
   "metadata": {},
   "outputs": [],
   "source": [
    "# target_dir = f\"{os.getcwd()}\\\\Data\"\n",
    "\n",
    "# data = os.listdir(target_dir)\n",
    "# print(f\"This directory contains <{len(data)}> files\")\n",
    "# for file in data:\n",
    "#     filepath = os.path.join(target_dir, file)\n",
    "#     content = load_comments(filepath)\n",
    "#     print(len(content))"
   ]
  },
  {
   "cell_type": "markdown",
   "metadata": {},
   "source": [
    "Great! We have over 500 videos left, each with at least 500 comments. All that's left to do is run the sentiment analysis on each video. This is going to take a lot of time, which means we'll have to do it in batches. 100 videos per batch seems feasible, so let's do that. "
   ]
  },
  {
   "cell_type": "code",
   "execution_count": 13,
   "metadata": {},
   "outputs": [],
   "source": [
    "# %run split_folder__.py \".\\Data\" \n",
    "# #Obtained from https://gist.github.com/zupo/5849843"
   ]
  },
  {
   "cell_type": "markdown",
   "metadata": {},
   "source": [
    "Another sanity check:"
   ]
  },
  {
   "cell_type": "code",
   "execution_count": 14,
   "metadata": {},
   "outputs": [],
   "source": [
    "# target_dir = f\"{os.getcwd()}\\\\Data\\\\Batch_1\"\n",
    "# data = os.listdir(target_dir)\n",
    "# print(len(data))"
   ]
  },
  {
   "cell_type": "markdown",
   "metadata": {},
   "source": [
    "Now we can finally start the analysis"
   ]
  },
  {
   "cell_type": "code",
   "execution_count": 15,
   "metadata": {},
   "outputs": [],
   "source": [
    "# from get_video import load_comments\n",
    "\n",
    "# batch_6 = f\"{os.getcwd()}\\\\Data\\\\Batch_6\"\n",
    "# data_6 = os.listdir(batch_6)\n",
    "\n",
    "# os.chdir(batch_6)\n",
    "\n",
    "# for file in data_6:\n",
    "#     if file.startswith(\"analysis_\"): \n",
    "#         continue\n",
    "#     else:\n",
    "#         start = time.time()\n",
    "#         filename = f\"{batch_6}\\\\{file}\"\n",
    "#         content = load_comments(filename)\n",
    "\n",
    "#         with Pool() as p:\n",
    "#             tr_comment = p.map(utils.translate, content)\n",
    "\n",
    "#         bert_scores = utils.bert_classifier(content)\n",
    "\n",
    "#         df_list = []\n",
    "#         scores_list = []\n",
    "\n",
    "#         with Pool() as p:\n",
    "#             analysis1 = p.map(utils.vader_classifier, tr_comment)\n",
    "#             analysis2 = p.map(utils.textblob_classifier, tr_comment)\n",
    "#             scores_list.append(analysis1)\n",
    "#             scores_list.append(analysis2)\n",
    "\n",
    "#         for c, v_score, t_score in zip(content, scores_list[0], scores_list[1]):\n",
    "#             df_dict = {\n",
    "#                 \"Comment\": c,\n",
    "#                 \"Vader score\": v_score,\n",
    "#                 \"TextBlob score\": t_score,\n",
    "#             }\n",
    "#             df_list.append(df_dict)\n",
    "\n",
    "#         df = pd.DataFrame(df_list)\n",
    "\n",
    "#         series_bert = pd.Series(bert_scores)\n",
    "#         df[\"BERT score\"] = series_bert\n",
    "\n",
    "#         vader_labels = utils.generate_labels(df[\"Vader score\"], \"vader\")\n",
    "#         blob_labels = utils.generate_labels(df[\"TextBlob score\"], \"blob\")\n",
    "#         bert_labels = utils.generate_labels(df[\"BERT score\"], \"bert\")\n",
    "\n",
    "#         vader_labels_series = pd.Series(vader_labels)\n",
    "#         blob_labels_series = pd.Series(blob_labels)\n",
    "#         bert_labels_series = pd.Series(bert_labels)\n",
    "\n",
    "#         df[\"Vader label\"] = vader_labels_series\n",
    "#         df[\"TextBlob label\"] = blob_labels_series\n",
    "#         df[\"BERT label\"] = bert_labels_series\n",
    "\n",
    "#         df = df[\n",
    "#             [\n",
    "#                 \"Comment\",\n",
    "#                 \"Vader score\",\n",
    "#                 \"Vader label\",\n",
    "#                 \"TextBlob score\",\n",
    "#                 \"TextBlob label\",\n",
    "#                 \"BERT score\",\n",
    "#                 \"BERT label\",\n",
    "#             ]\n",
    "#         ]\n",
    "\n",
    "#         end = time.time()\n",
    "#         time_taken = end - start\n",
    "#         print(f\"Processed file <{file}>\\nTime taken: <{time_taken}> seconds\")\n",
    "#         utils.save_analysis(df, file)\n",
    "\n",
    "# os.chdir(\"F:\\\\Desktop\\\\Scuola\\\\Uni\\\\Y3\\\\S2\\\\Thesis\\\\Project\\\\Main project\\\\GetYoutubeComments\") # Reset cwd for next batch"
   ]
  },
  {
   "cell_type": "markdown",
   "metadata": {},
   "source": [
    "Let's copy and merge the CSV files for easier analysis of overall trends"
   ]
  },
  {
   "cell_type": "code",
   "execution_count": 16,
   "metadata": {},
   "outputs": [],
   "source": [
    "# import shutil\n",
    "\n",
    "# folders = [\"Batch_1\", \"Batch_2\", \"Batch_3\", \"Batch_4\", \"Batch_5\", \"Batch_6\"]\n",
    "# data_dir = f\"{os.getcwd()}\\\\Data\"\n",
    "# target_dir = f\"{os.getcwd()}\\\\CSV\"\n",
    "\n",
    "# if not os.path.exists(target_dir):\n",
    "#     os.mkdir(target_dir)\n",
    "\n",
    "# for folder in folders:\n",
    "#     batch = f\"{data_dir}\\\\{folder}\"\n",
    "#     all_data = os.listdir(batch)\n",
    "#     for file in all_data:\n",
    "#         if file.endswith(\".csv\"):\n",
    "#             filename = os.path.join(batch, file)\n",
    "#             shutil.copy(filename, target_dir)            \n",
    "\n",
    "# files = os.listdir(target_dir)\n",
    "\n",
    "# combined_csv = pd.concat([pd.read_csv(f\"{target_dir}\\\\{f}\") for f in files])\n",
    "# combined_csv.to_csv(\"analysis_all_files.csv\", index=False, encoding=\"utf-8-sig\")\n",
    "\n",
    "# all_files = pd.read_csv(f\"{target_dir}\\\\analysis_all_files.csv\")\n",
    "# all_files.head(10)"
   ]
  },
  {
   "cell_type": "markdown",
   "metadata": {},
   "source": [
    "Let's get a ratio of polarities for all videos for each model and visualize it in a graph"
   ]
  },
  {
   "cell_type": "code",
   "execution_count": 17,
   "metadata": {},
   "outputs": [],
   "source": [
    "# Setting up plots for display in LaTeX\n",
    "import matplotlib\n",
    "%matplotlib inline\n",
    "plots_dir = f\"{os.getcwd()}\\\\Plots\"\n",
    "#matplotlib.use(\"pgf\")\n",
    "matplotlib.rcParams.update({\n",
    "    \"pgf.texsystem\": \"pdflatex\",\n",
    "    'font.family': 'serif',\n",
    "    'text.usetex': True,\n",
    "    'pgf.rcfonts': False,\n",
    "})"
   ]
  },
  {
   "cell_type": "code",
   "execution_count": 18,
   "metadata": {},
   "outputs": [
    {
     "name": "stdout",
     "output_type": "stream",
     "text": [
      "Ratios: \n",
      "      Model  Positive   Neutral  Negative\n",
      "0     Vader  0.507953  0.357239  0.134808\n",
      "1  TextBlob  0.388648  0.517005  0.094347\n",
      "2      BERT  0.452432  0.244917  0.302651 \n",
      "\n"
     ]
    },
    {
     "data": {
      "image/png": "[encoded data removed]",
      "text/plain": [
       "<Figure size 433.913x360 with 1 Axes>"
      ]
     },
     "metadata": {
      "needs_background": "light"
     },
     "output_type": "display_data"
    }
   ],
   "source": [
    "target_dir = f\"{os.getcwd()}\\\\Data\\\\CSV\"\n",
    "all_files = pd.read_csv(f\"{target_dir}\\\\analysis_all_files.csv\")\n",
    "\n",
    "columns = [all_files[\"Vader label\"], all_files[\"TextBlob label\"], all_files[\"BERT label\"]]\n",
    "models = [\"Vader\", \"TextBlob\", \"BERT\"]\n",
    "df_list = []\n",
    "\n",
    "for column, model in zip(columns, models):\n",
    "    col = column.value_counts(normalize=True)\n",
    "    d = {\"Model\": model, \"Positive\": col['Positive'], \"Neutral\": col['Neutral'], \"Negative\": col['Negative']}\n",
    "    df_list.append(d)\n",
    "\n",
    "all_ratios = pd.DataFrame(df_list)\n",
    "print(\"Ratios: \")\n",
    "print(all_ratios, \"\\n\")\n",
    "\n",
    "proportion = all_ratios.melt(\"Model\", var_name = \"Polarity\", value_name = \"Proportion\")\n",
    "g = sns.catplot(x = \"Model\", y = \"Proportion\", hue=\"Polarity\", data = proportion, kind = \"bar\")\n",
    "# plt.savefig(f\"{plots_dir}\\\\proportion_labels.pgf\", dpi = 300)\n",
    "plt.show()"
   ]
  },
  {
   "cell_type": "markdown",
   "metadata": {},
   "source": [
    "Vader and BERT seem to be relatively close to each other in the ratio of their predictions, while TextBlob does not seem to follow the trend. \n",
    "Let's check if the predictions correlate:"
   ]
  },
  {
   "cell_type": "code",
   "execution_count": 19,
   "metadata": {},
   "outputs": [
    {
     "name": "stdout",
     "output_type": "stream",
     "text": [
      "Statistics: \n",
      "         Vader score  TextBlob score     BERT score\n",
      "count  339364.000000   339364.000000  339364.000000\n",
      "mean        0.255158        0.149271       0.204303\n",
      "std         0.448403        0.324981       0.459851\n",
      "min        -1.000000       -1.000000      -0.988600\n",
      "25%         0.000000        0.000000      -0.293853\n",
      "50%         0.090000        0.000000       0.308578\n",
      "75%         0.636900        0.350000       0.522687\n",
      "max         1.000000        1.000000       0.991498 \n",
      "\n",
      "Correlation matrix: \n",
      "                Vader score  TextBlob score  BERT score\n",
      "Vader score        1.000000        0.524019    0.447403\n",
      "TextBlob score     0.524019        1.000000    0.446724\n",
      "BERT score         0.447403        0.446724    1.000000\n"
     ]
    }
   ],
   "source": [
    "print(\"Statistics: \")\n",
    "print(all_files.describe(), \"\\n\")\n",
    "\n",
    "print(\"Correlation matrix: \")\n",
    "print(all_files.corr(\"pearson\"))"
   ]
  },
  {
   "cell_type": "markdown",
   "metadata": {},
   "source": [
    "They seem to all have a slightly positive relationship, which means that they are correlated to each other (albeit not very much). Let's visualize the counts for each label (for each model) in a graph"
   ]
  },
  {
   "cell_type": "code",
   "execution_count": 20,
   "metadata": {},
   "outputs": [
    {
     "data": {
      "image/png": "[encoded data removed]",
      "text/plain": [
       "<Figure size 433.913x360 with 1 Axes>"
      ]
     },
     "metadata": {
      "needs_background": "light"
     },
     "output_type": "display_data"
    }
   ],
   "source": [
    "columns = [all_files[\"Vader label\"], all_files[\"TextBlob label\"], all_files[\"BERT label\"]]\n",
    "models = [\"Vader\", \"TextBlob\", \"BERT\"]\n",
    "df_list = []\n",
    "\n",
    "for column, model in zip(columns, models):\n",
    "    col = column.value_counts()\n",
    "    d = {\"Model\": model, \"Positive\": col['Positive'], \"Neutral\": col['Neutral'], \"Negative\": col['Negative']}\n",
    "    df_list.append(d)\n",
    "\n",
    "all_labels = pd.DataFrame(df_list)\n",
    "\n",
    "counts = all_labels.melt(\"Model\", var_name = \"Polarity\", value_name = \"Counts\")\n",
    "g = sns.catplot(x = \"Model\", y = \"Counts\", hue=\"Polarity\", data = counts, kind = \"bar\")\n",
    "# plt.savefig(f\"{plots_dir}\\\\count_labels.pgf\", dpi = 300)"
   ]
  },
  {
   "cell_type": "markdown",
   "metadata": {},
   "source": [
    "Let's check the distribution of polarities per model"
   ]
  },
  {
   "cell_type": "code",
   "execution_count": 21,
   "metadata": {},
   "outputs": [
    {
     "data": {
      "image/png": "[encoded data removed]",
      "text/plain": [
       "<Figure size 461.255x360 with 1 Axes>"
      ]
     },
     "metadata": {
      "needs_background": "light"
     },
     "output_type": "display_data"
    },
    {
     "data": {
      "image/png": "[encoded data removed]",
      "text/plain": [
       "<Figure size 461.255x360 with 1 Axes>"
      ]
     },
     "metadata": {
      "needs_background": "light"
     },
     "output_type": "display_data"
    },
    {
     "data": {
      "image/png": "[encoded data removed]",
      "text/plain": [
       "<Figure size 461.255x360 with 1 Axes>"
      ]
     },
     "metadata": {
      "needs_background": "light"
     },
     "output_type": "display_data"
    }
   ],
   "source": [
    "columns = [all_files[\"Vader score\"], all_files[\"TextBlob score\"], all_files[\"BERT score\"]]\n",
    "models = [\"Vader\", \"TextBlob\", \"BERT\"]\n",
    "df_list = []\n",
    "\n",
    "all_files_copy = all_files.copy(deep = True)\n",
    "all_files_copy = all_files_copy.drop(columns = [\"Comment\", \"Vader label\", \"TextBlob label\", \"BERT label\"])\n",
    "all_files_copy_melt = pd.melt(all_files_copy, var_name = \"Models\", value_name = \"Polarity\")\n",
    "\n",
    "boxen = sns.catplot(x = \"Polarity\", y = \"Models\", hue=\"Models\", data = all_files_copy_melt, kind = \"boxen\")\n",
    "# plt.savefig(f\"{plots_dir}\\\\boxenplot_times.pgf\", dpi = 300)\n",
    "\n",
    "violin = sns.catplot(x = \"Polarity\", y = \"Models\", hue=\"Models\", data = all_files_copy_melt, kind = \"violin\")\n",
    "# plt.savefig(f\"{plots_dir}\\\\violinplot_times.pgf\", dpi = 300)\n",
    "\n",
    "kde = sns.displot(data = all_files_copy_melt, x = \"Polarity\", hue=\"Models\", kind = \"kde\", fill = True)\n",
    "# plt.savefig(f\"{plots_dir}\\\\polarity_distribution_times.pgf\", dpi = 300)\n"
   ]
  },
  {
   "cell_type": "markdown",
   "metadata": {},
   "source": [
    "Let's start by making a new likes dataframe based on the videos we analyzed. We can use the ID column to get the corresponding CSV file later on"
   ]
  },
  {
   "cell_type": "code",
   "execution_count": 22,
   "metadata": {},
   "outputs": [
    {
     "data": {
      "text/html": [
       "<div>\n",
       "<style scoped>\n",
       "    .dataframe tbody tr th:only-of-type {\n",
       "        vertical-align: middle;\n",
       "    }\n",
       "\n",
       "    .dataframe tbody tr th {\n",
       "        vertical-align: top;\n",
       "    }\n",
       "\n",
       "    .dataframe thead th {\n",
       "        text-align: right;\n",
       "    }\n",
       "</style>\n",
       "<table border=\"1\" class=\"dataframe\">\n",
       "  <thead>\n",
       "    <tr style=\"text-align: right;\">\n",
       "      <th></th>\n",
       "      <th>URL</th>\n",
       "      <th>ID</th>\n",
       "      <th>likes</th>\n",
       "      <th>dislikes</th>\n",
       "      <th>ratio</th>\n",
       "    </tr>\n",
       "  </thead>\n",
       "  <tbody>\n",
       "    <tr>\n",
       "      <th>0</th>\n",
       "      <td>https://www.youtube.com/watch?v=feLcMaiClOw</td>\n",
       "      <td>feLcMaiClOw</td>\n",
       "      <td>312761</td>\n",
       "      <td>19093</td>\n",
       "      <td>16.381</td>\n",
       "    </tr>\n",
       "    <tr>\n",
       "      <th>1</th>\n",
       "      <td>https://www.youtube.com/watch?v=tASwv-tkMlc</td>\n",
       "      <td>tASwv-tkMlc</td>\n",
       "      <td>35026</td>\n",
       "      <td>165</td>\n",
       "      <td>212.279</td>\n",
       "    </tr>\n",
       "    <tr>\n",
       "      <th>2</th>\n",
       "      <td>https://www.youtube.com/watch?v=3U2dNKBM28o</td>\n",
       "      <td>3U2dNKBM28o</td>\n",
       "      <td>126427</td>\n",
       "      <td>6010</td>\n",
       "      <td>21.036</td>\n",
       "    </tr>\n",
       "    <tr>\n",
       "      <th>5</th>\n",
       "      <td>https://www.youtube.com/watch?v=ClQ-ymoXJZc</td>\n",
       "      <td>ClQ-ymoXJZc</td>\n",
       "      <td>1079676</td>\n",
       "      <td>8874</td>\n",
       "      <td>121.667</td>\n",
       "    </tr>\n",
       "    <tr>\n",
       "      <th>6</th>\n",
       "      <td>https://www.youtube.com/watch?v=8EJ3zbKTWQ8</td>\n",
       "      <td>8EJ3zbKTWQ8</td>\n",
       "      <td>11371069</td>\n",
       "      <td>1420624</td>\n",
       "      <td>8.004</td>\n",
       "    </tr>\n",
       "    <tr>\n",
       "      <th>7</th>\n",
       "      <td>https://www.youtube.com/watch?v=t99KH0TR-J4</td>\n",
       "      <td>t99KH0TR-J4</td>\n",
       "      <td>1435738</td>\n",
       "      <td>33092</td>\n",
       "      <td>43.386</td>\n",
       "    </tr>\n",
       "    <tr>\n",
       "      <th>8</th>\n",
       "      <td>https://www.youtube.com/watch?v=DovdIspaqmw</td>\n",
       "      <td>DovdIspaqmw</td>\n",
       "      <td>146007</td>\n",
       "      <td>5324</td>\n",
       "      <td>27.424</td>\n",
       "    </tr>\n",
       "    <tr>\n",
       "      <th>9</th>\n",
       "      <td>https://www.youtube.com/watch?v=DQQRjFzB8gY</td>\n",
       "      <td>DQQRjFzB8gY</td>\n",
       "      <td>870202</td>\n",
       "      <td>49922</td>\n",
       "      <td>17.431</td>\n",
       "    </tr>\n",
       "    <tr>\n",
       "      <th>10</th>\n",
       "      <td>https://www.youtube.com/watch?v=8DytqFTwNSc</td>\n",
       "      <td>8DytqFTwNSc</td>\n",
       "      <td>88001</td>\n",
       "      <td>2068</td>\n",
       "      <td>42.554</td>\n",
       "    </tr>\n",
       "    <tr>\n",
       "      <th>16</th>\n",
       "      <td>https://www.youtube.com/watch?v=2cyzCReoNgU</td>\n",
       "      <td>2cyzCReoNgU</td>\n",
       "      <td>78842</td>\n",
       "      <td>819</td>\n",
       "      <td>96.266</td>\n",
       "    </tr>\n",
       "  </tbody>\n",
       "</table>\n",
       "</div>"
      ],
      "text/plain": [
       "                                            URL           ID     likes  \\\n",
       "0   https://www.youtube.com/watch?v=feLcMaiClOw  feLcMaiClOw    312761   \n",
       "1   https://www.youtube.com/watch?v=tASwv-tkMlc  tASwv-tkMlc     35026   \n",
       "2   https://www.youtube.com/watch?v=3U2dNKBM28o  3U2dNKBM28o    126427   \n",
       "5   https://www.youtube.com/watch?v=ClQ-ymoXJZc  ClQ-ymoXJZc   1079676   \n",
       "6   https://www.youtube.com/watch?v=8EJ3zbKTWQ8  8EJ3zbKTWQ8  11371069   \n",
       "7   https://www.youtube.com/watch?v=t99KH0TR-J4  t99KH0TR-J4   1435738   \n",
       "8   https://www.youtube.com/watch?v=DovdIspaqmw  DovdIspaqmw    146007   \n",
       "9   https://www.youtube.com/watch?v=DQQRjFzB8gY  DQQRjFzB8gY    870202   \n",
       "10  https://www.youtube.com/watch?v=8DytqFTwNSc  8DytqFTwNSc     88001   \n",
       "16  https://www.youtube.com/watch?v=2cyzCReoNgU  2cyzCReoNgU     78842   \n",
       "\n",
       "    dislikes    ratio  \n",
       "0      19093   16.381  \n",
       "1        165  212.279  \n",
       "2       6010   21.036  \n",
       "5       8874  121.667  \n",
       "6    1420624    8.004  \n",
       "7      33092   43.386  \n",
       "8       5324   27.424  \n",
       "9      49922   17.431  \n",
       "10      2068   42.554  \n",
       "16       819   96.266  "
      ]
     },
     "execution_count": 22,
     "metadata": {},
     "output_type": "execute_result"
    }
   ],
   "source": [
    "data = f\"{os.getcwd()}\\\\Data\"\n",
    "csv_dir = f\"{os.getcwd()}\\\\Data\\\\CSV\"\n",
    "csv_list = os.listdir(csv_dir)\n",
    "\n",
    "likes_df_short = likes_df.copy(deep = True) # make copy of ratio dataframe\n",
    "likes_df_short.reset_index(inplace = True)\n",
    "video_id = [row[-11:] for row in likes_df_short[\"URL\"]] # get video ID from URL ***DON'T USE***\n",
    "file_id = sorted([file[18:-4] for file in csv_list if file.startswith(\"analysis_comments\")]) # get video ID from filename\n",
    "common_id = sorted(list(set(video_id).intersection(file_id))) # USE THIS \n",
    "\n",
    "likes_df_short[\"ID\"] = pd.Series(video_id) # add to dataframe\n",
    "likes_df_short = likes_df_short[likes_df_short['ID'].isin(common_id)]\n",
    "likes_df_short = likes_df_short[[\"URL\", \"ID\", \"likes\", \"dislikes\", \"ratio\"]]\n",
    "\n",
    "likes_df_short.head(10)\n",
    "\n",
    "#likes_df_short.to_csv(f\"{csv_dir}\\\\likes_df_short.csv\")"
   ]
  },
  {
   "cell_type": "markdown",
   "metadata": {},
   "source": [
    "To generate the new engagement metrics we will assign points to each comment based on their polarity: 1 point for positive, 0 for neutral, and -1 for negative and add the sum of those points to the dataframe"
   ]
  },
  {
   "cell_type": "code",
   "execution_count": 23,
   "metadata": {},
   "outputs": [
    {
     "data": {
      "text/html": [
       "<div>\n",
       "<style scoped>\n",
       "    .dataframe tbody tr th:only-of-type {\n",
       "        vertical-align: middle;\n",
       "    }\n",
       "\n",
       "    .dataframe tbody tr th {\n",
       "        vertical-align: top;\n",
       "    }\n",
       "\n",
       "    .dataframe thead th {\n",
       "        text-align: right;\n",
       "    }\n",
       "</style>\n",
       "<table border=\"1\" class=\"dataframe\">\n",
       "  <thead>\n",
       "    <tr style=\"text-align: right;\">\n",
       "      <th></th>\n",
       "      <th>URL</th>\n",
       "      <th>ID</th>\n",
       "      <th>likes</th>\n",
       "      <th>dislikes</th>\n",
       "      <th>like/dislike ratio</th>\n",
       "      <th>Vader total</th>\n",
       "      <th>TextBlob total</th>\n",
       "      <th>BERT total</th>\n",
       "    </tr>\n",
       "  </thead>\n",
       "  <tbody>\n",
       "    <tr>\n",
       "      <th>0</th>\n",
       "      <td>https://www.youtube.com/watch?v=feLcMaiClOw</td>\n",
       "      <td>feLcMaiClOw</td>\n",
       "      <td>312761</td>\n",
       "      <td>19093</td>\n",
       "      <td>16.381</td>\n",
       "      <td>294</td>\n",
       "      <td>199</td>\n",
       "      <td>-101</td>\n",
       "    </tr>\n",
       "    <tr>\n",
       "      <th>1</th>\n",
       "      <td>https://www.youtube.com/watch?v=tASwv-tkMlc</td>\n",
       "      <td>tASwv-tkMlc</td>\n",
       "      <td>35026</td>\n",
       "      <td>165</td>\n",
       "      <td>212.279</td>\n",
       "      <td>365</td>\n",
       "      <td>177</td>\n",
       "      <td>122</td>\n",
       "    </tr>\n",
       "    <tr>\n",
       "      <th>2</th>\n",
       "      <td>https://www.youtube.com/watch?v=3U2dNKBM28o</td>\n",
       "      <td>3U2dNKBM28o</td>\n",
       "      <td>126427</td>\n",
       "      <td>6010</td>\n",
       "      <td>21.036</td>\n",
       "      <td>333</td>\n",
       "      <td>253</td>\n",
       "      <td>152</td>\n",
       "    </tr>\n",
       "    <tr>\n",
       "      <th>5</th>\n",
       "      <td>https://www.youtube.com/watch?v=ClQ-ymoXJZc</td>\n",
       "      <td>ClQ-ymoXJZc</td>\n",
       "      <td>1079676</td>\n",
       "      <td>8874</td>\n",
       "      <td>121.667</td>\n",
       "      <td>154</td>\n",
       "      <td>105</td>\n",
       "      <td>-49</td>\n",
       "    </tr>\n",
       "    <tr>\n",
       "      <th>6</th>\n",
       "      <td>https://www.youtube.com/watch?v=8EJ3zbKTWQ8</td>\n",
       "      <td>8EJ3zbKTWQ8</td>\n",
       "      <td>11371069</td>\n",
       "      <td>1420624</td>\n",
       "      <td>8.004</td>\n",
       "      <td>255</td>\n",
       "      <td>155</td>\n",
       "      <td>153</td>\n",
       "    </tr>\n",
       "    <tr>\n",
       "      <th>7</th>\n",
       "      <td>https://www.youtube.com/watch?v=t99KH0TR-J4</td>\n",
       "      <td>t99KH0TR-J4</td>\n",
       "      <td>1435738</td>\n",
       "      <td>33092</td>\n",
       "      <td>43.386</td>\n",
       "      <td>241</td>\n",
       "      <td>229</td>\n",
       "      <td>233</td>\n",
       "    </tr>\n",
       "    <tr>\n",
       "      <th>8</th>\n",
       "      <td>https://www.youtube.com/watch?v=DovdIspaqmw</td>\n",
       "      <td>DovdIspaqmw</td>\n",
       "      <td>146007</td>\n",
       "      <td>5324</td>\n",
       "      <td>27.424</td>\n",
       "      <td>62</td>\n",
       "      <td>61</td>\n",
       "      <td>-298</td>\n",
       "    </tr>\n",
       "    <tr>\n",
       "      <th>9</th>\n",
       "      <td>https://www.youtube.com/watch?v=DQQRjFzB8gY</td>\n",
       "      <td>DQQRjFzB8gY</td>\n",
       "      <td>870202</td>\n",
       "      <td>49922</td>\n",
       "      <td>17.431</td>\n",
       "      <td>285</td>\n",
       "      <td>198</td>\n",
       "      <td>113</td>\n",
       "    </tr>\n",
       "    <tr>\n",
       "      <th>10</th>\n",
       "      <td>https://www.youtube.com/watch?v=8DytqFTwNSc</td>\n",
       "      <td>8DytqFTwNSc</td>\n",
       "      <td>88001</td>\n",
       "      <td>2068</td>\n",
       "      <td>42.554</td>\n",
       "      <td>326</td>\n",
       "      <td>187</td>\n",
       "      <td>139</td>\n",
       "    </tr>\n",
       "    <tr>\n",
       "      <th>16</th>\n",
       "      <td>https://www.youtube.com/watch?v=2cyzCReoNgU</td>\n",
       "      <td>2cyzCReoNgU</td>\n",
       "      <td>78842</td>\n",
       "      <td>819</td>\n",
       "      <td>96.266</td>\n",
       "      <td>304</td>\n",
       "      <td>218</td>\n",
       "      <td>149</td>\n",
       "    </tr>\n",
       "  </tbody>\n",
       "</table>\n",
       "</div>"
      ],
      "text/plain": [
       "                                            URL           ID     likes  \\\n",
       "0   https://www.youtube.com/watch?v=feLcMaiClOw  feLcMaiClOw    312761   \n",
       "1   https://www.youtube.com/watch?v=tASwv-tkMlc  tASwv-tkMlc     35026   \n",
       "2   https://www.youtube.com/watch?v=3U2dNKBM28o  3U2dNKBM28o    126427   \n",
       "5   https://www.youtube.com/watch?v=ClQ-ymoXJZc  ClQ-ymoXJZc   1079676   \n",
       "6   https://www.youtube.com/watch?v=8EJ3zbKTWQ8  8EJ3zbKTWQ8  11371069   \n",
       "7   https://www.youtube.com/watch?v=t99KH0TR-J4  t99KH0TR-J4   1435738   \n",
       "8   https://www.youtube.com/watch?v=DovdIspaqmw  DovdIspaqmw    146007   \n",
       "9   https://www.youtube.com/watch?v=DQQRjFzB8gY  DQQRjFzB8gY    870202   \n",
       "10  https://www.youtube.com/watch?v=8DytqFTwNSc  8DytqFTwNSc     88001   \n",
       "16  https://www.youtube.com/watch?v=2cyzCReoNgU  2cyzCReoNgU     78842   \n",
       "\n",
       "    dislikes  like/dislike ratio  Vader total  TextBlob total  BERT total  \n",
       "0      19093              16.381          294             199        -101  \n",
       "1        165             212.279          365             177         122  \n",
       "2       6010              21.036          333             253         152  \n",
       "5       8874             121.667          154             105         -49  \n",
       "6    1420624               8.004          255             155         153  \n",
       "7      33092              43.386          241             229         233  \n",
       "8       5324              27.424           62              61        -298  \n",
       "9      49922              17.431          285             198         113  \n",
       "10      2068              42.554          326             187         139  \n",
       "16       819              96.266          304             218         149  "
      ]
     },
     "execution_count": 23,
     "metadata": {},
     "output_type": "execute_result"
    }
   ],
   "source": [
    "files = os.listdir(target_dir)\n",
    "\n",
    "v_list, t_list, b_list = [], [], []\n",
    "\n",
    "for id_ in likes_df_short[\"ID\"]: # For each file\n",
    "    v_score, t_score, b_score  = [], [], []\n",
    "    filename = f\"analysis_comments_{id_}.csv\"\n",
    "    filepath = f\"{target_dir}\\\\{filename}\" \n",
    "    df = pd.read_csv(filepath)\n",
    "    for l_v, l_t, l_b in zip(df[\"Vader label\"], df[\"TextBlob label\"], df[\"BERT label\"]): # For each column\n",
    "        v_score.append(utils.generate_score(l_v))\n",
    "        t_score.append(utils.generate_score(l_t))\n",
    "        b_score.append(utils.generate_score(l_b))\n",
    "    v_list.append(sum(v_score))\n",
    "    t_list.append(sum(t_score))\n",
    "    b_list.append(sum(b_score))\n",
    "\n",
    "v_series = pd.Series(v_list)\n",
    "t_series = pd.Series(t_list)\n",
    "b_series = pd.Series(b_list)\n",
    "\n",
    "v_series.index = likes_df_short.index\n",
    "t_series.index = likes_df_short.index\n",
    "b_series.index = likes_df_short.index\n",
    "\n",
    "likes_df_short[\"Vader total\"] = v_series\n",
    "likes_df_short[\"TextBlob total\"] = t_series\n",
    "likes_df_short[\"BERT total\"] = b_series\n",
    "\n",
    "likes_df_short = likes_df_short[[\"URL\", \"ID\", \"likes\", \"dislikes\", \"ratio\", \"Vader total\", \"TextBlob total\", \"BERT total\"]]\n",
    "likes_df_short = likes_df_short.rename(columns = {\"ratio\":\"like/dislike ratio\"})\n",
    "likes_df_short.head(10)"
   ]
  },
  {
   "cell_type": "markdown",
   "metadata": {},
   "source": [
    "Now we can finally attempt to predict the ratio of likes to dislikes using the ratio of positive+neutral comments and negative comments"
   ]
  },
  {
   "cell_type": "code",
   "execution_count": 24,
   "metadata": {},
   "outputs": [
    {
     "data": {
      "text/html": [
       "<div>\n",
       "<style scoped>\n",
       "    .dataframe tbody tr th:only-of-type {\n",
       "        vertical-align: middle;\n",
       "    }\n",
       "\n",
       "    .dataframe tbody tr th {\n",
       "        vertical-align: top;\n",
       "    }\n",
       "\n",
       "    .dataframe thead th {\n",
       "        text-align: right;\n",
       "    }\n",
       "</style>\n",
       "<table border=\"1\" class=\"dataframe\">\n",
       "  <thead>\n",
       "    <tr style=\"text-align: right;\">\n",
       "      <th></th>\n",
       "      <th>ID</th>\n",
       "      <th>likes</th>\n",
       "      <th>dislikes</th>\n",
       "      <th>like/dislike ratio</th>\n",
       "      <th>Vader total</th>\n",
       "      <th>Vader comment ratio</th>\n",
       "      <th>TextBlob total</th>\n",
       "      <th>TextBlob comment ratio</th>\n",
       "      <th>BERT total</th>\n",
       "      <th>BERT comment ratio</th>\n",
       "    </tr>\n",
       "  </thead>\n",
       "  <tbody>\n",
       "    <tr>\n",
       "      <th>0</th>\n",
       "      <td>feLcMaiClOw</td>\n",
       "      <td>312761</td>\n",
       "      <td>19093</td>\n",
       "      <td>16.381</td>\n",
       "      <td>294</td>\n",
       "      <td>6.692308</td>\n",
       "      <td>199</td>\n",
       "      <td>8.836066</td>\n",
       "      <td>-101</td>\n",
       "      <td>1.380952</td>\n",
       "    </tr>\n",
       "    <tr>\n",
       "      <th>1</th>\n",
       "      <td>tASwv-tkMlc</td>\n",
       "      <td>35026</td>\n",
       "      <td>165</td>\n",
       "      <td>212.279</td>\n",
       "      <td>365</td>\n",
       "      <td>12.636364</td>\n",
       "      <td>177</td>\n",
       "      <td>7.823529</td>\n",
       "      <td>122</td>\n",
       "      <td>2.571429</td>\n",
       "    </tr>\n",
       "    <tr>\n",
       "      <th>2</th>\n",
       "      <td>3U2dNKBM28o</td>\n",
       "      <td>126427</td>\n",
       "      <td>6010</td>\n",
       "      <td>21.036</td>\n",
       "      <td>333</td>\n",
       "      <td>26.272727</td>\n",
       "      <td>253</td>\n",
       "      <td>23.000000</td>\n",
       "      <td>152</td>\n",
       "      <td>3.838710</td>\n",
       "    </tr>\n",
       "    <tr>\n",
       "      <th>5</th>\n",
       "      <td>ClQ-ymoXJZc</td>\n",
       "      <td>1079676</td>\n",
       "      <td>8874</td>\n",
       "      <td>121.667</td>\n",
       "      <td>154</td>\n",
       "      <td>3.918033</td>\n",
       "      <td>105</td>\n",
       "      <td>4.405405</td>\n",
       "      <td>-49</td>\n",
       "      <td>1.290076</td>\n",
       "    </tr>\n",
       "    <tr>\n",
       "      <th>6</th>\n",
       "      <td>8EJ3zbKTWQ8</td>\n",
       "      <td>11371069</td>\n",
       "      <td>1420624</td>\n",
       "      <td>8.004</td>\n",
       "      <td>255</td>\n",
       "      <td>8.153846</td>\n",
       "      <td>155</td>\n",
       "      <td>10.442308</td>\n",
       "      <td>153</td>\n",
       "      <td>3.131944</td>\n",
       "    </tr>\n",
       "    <tr>\n",
       "      <th>7</th>\n",
       "      <td>t99KH0TR-J4</td>\n",
       "      <td>1435738</td>\n",
       "      <td>33092</td>\n",
       "      <td>43.386</td>\n",
       "      <td>241</td>\n",
       "      <td>6.228916</td>\n",
       "      <td>229</td>\n",
       "      <td>11.765957</td>\n",
       "      <td>233</td>\n",
       "      <td>3.651163</td>\n",
       "    </tr>\n",
       "    <tr>\n",
       "      <th>8</th>\n",
       "      <td>DovdIspaqmw</td>\n",
       "      <td>146007</td>\n",
       "      <td>5324</td>\n",
       "      <td>27.424</td>\n",
       "      <td>62</td>\n",
       "      <td>5.896552</td>\n",
       "      <td>61</td>\n",
       "      <td>21.222222</td>\n",
       "      <td>-298</td>\n",
       "      <td>0.639344</td>\n",
       "    </tr>\n",
       "    <tr>\n",
       "      <th>9</th>\n",
       "      <td>DQQRjFzB8gY</td>\n",
       "      <td>870202</td>\n",
       "      <td>49922</td>\n",
       "      <td>17.431</td>\n",
       "      <td>285</td>\n",
       "      <td>10.301887</td>\n",
       "      <td>198</td>\n",
       "      <td>17.151515</td>\n",
       "      <td>113</td>\n",
       "      <td>2.940789</td>\n",
       "    </tr>\n",
       "    <tr>\n",
       "      <th>10</th>\n",
       "      <td>8DytqFTwNSc</td>\n",
       "      <td>88001</td>\n",
       "      <td>2068</td>\n",
       "      <td>42.554</td>\n",
       "      <td>326</td>\n",
       "      <td>11.000000</td>\n",
       "      <td>187</td>\n",
       "      <td>16.142857</td>\n",
       "      <td>139</td>\n",
       "      <td>2.428571</td>\n",
       "    </tr>\n",
       "    <tr>\n",
       "      <th>16</th>\n",
       "      <td>2cyzCReoNgU</td>\n",
       "      <td>78842</td>\n",
       "      <td>819</td>\n",
       "      <td>96.266</td>\n",
       "      <td>304</td>\n",
       "      <td>9.678571</td>\n",
       "      <td>218</td>\n",
       "      <td>17.121212</td>\n",
       "      <td>149</td>\n",
       "      <td>2.934211</td>\n",
       "    </tr>\n",
       "  </tbody>\n",
       "</table>\n",
       "</div>"
      ],
      "text/plain": [
       "             ID     likes  dislikes  like/dislike ratio  Vader total  \\\n",
       "0   feLcMaiClOw    312761     19093              16.381          294   \n",
       "1   tASwv-tkMlc     35026       165             212.279          365   \n",
       "2   3U2dNKBM28o    126427      6010              21.036          333   \n",
       "5   ClQ-ymoXJZc   1079676      8874             121.667          154   \n",
       "6   8EJ3zbKTWQ8  11371069   1420624               8.004          255   \n",
       "7   t99KH0TR-J4   1435738     33092              43.386          241   \n",
       "8   DovdIspaqmw    146007      5324              27.424           62   \n",
       "9   DQQRjFzB8gY    870202     49922              17.431          285   \n",
       "10  8DytqFTwNSc     88001      2068              42.554          326   \n",
       "16  2cyzCReoNgU     78842       819              96.266          304   \n",
       "\n",
       "    Vader comment ratio  TextBlob total  TextBlob comment ratio  BERT total  \\\n",
       "0              6.692308             199                8.836066        -101   \n",
       "1             12.636364             177                7.823529         122   \n",
       "2             26.272727             253               23.000000         152   \n",
       "5              3.918033             105                4.405405         -49   \n",
       "6              8.153846             155               10.442308         153   \n",
       "7              6.228916             229               11.765957         233   \n",
       "8              5.896552              61               21.222222        -298   \n",
       "9             10.301887             198               17.151515         113   \n",
       "10            11.000000             187               16.142857         139   \n",
       "16             9.678571             218               17.121212         149   \n",
       "\n",
       "    BERT comment ratio  \n",
       "0             1.380952  \n",
       "1             2.571429  \n",
       "2             3.838710  \n",
       "5             1.290076  \n",
       "6             3.131944  \n",
       "7             3.651163  \n",
       "8             0.639344  \n",
       "9             2.940789  \n",
       "10            2.428571  \n",
       "16            2.934211  "
      ]
     },
     "execution_count": 24,
     "metadata": {},
     "output_type": "execute_result"
    }
   ],
   "source": [
    "counts_v_lst, counts_t_lst, counts_b_lst = [], [], []\n",
    "\n",
    "for id_ in likes_df_short[\"ID\"]:\n",
    "    filename = f\"analysis_comments_{id_}.csv\"\n",
    "    filepath = f\"{csv_dir}\\\\{filename}\"\n",
    "    df = pd.read_csv(filepath)\n",
    "    col_v, col_t, col_b = df[\"Vader label\"], df[\"TextBlob label\"], df[\"BERT label\"]\n",
    "    counts_v, counts_t, counts_b = col_v.value_counts(), col_t.value_counts(), col_b.value_counts()\n",
    "    counts_v_lst.append(counts_v)\n",
    "    counts_t_lst.append(counts_t)\n",
    "    counts_b_lst.append(counts_b)\n",
    "\n",
    "ratios_v, ratios_t, ratios_b = [], [], []\n",
    "\n",
    "for count_v, count_t, count_b in zip(counts_v_lst, counts_t_lst, counts_b_lst):\n",
    "    try:\n",
    "        ratio_v = (count_v[\"Positive\"]+count_v[\"Neutral\"]) / count_v[\"Negative\"]\n",
    "        ratio_t = (count_t[\"Positive\"]+count_t[\"Neutral\"]) / count_t[\"Negative\"]\n",
    "        ratio_b = (count_b[\"Positive\"]+count_b[\"Neutral\"]) / count_b[\"Negative\"]\n",
    "    except KeyError:\n",
    "        count_v[\"Positive\"] = 0\n",
    "        count_t[\"Positive\"] = 0\n",
    "        count_b[\"Positive\"] = 0\n",
    "        \n",
    "        count_v[\"Negative\"] = 0\n",
    "        count_t[\"Negative\"] = 0\n",
    "        count_b[\"Negative\"] = 0\n",
    "\n",
    "    ratios_v.append(ratio_v)\n",
    "    ratios_t.append(ratio_t)\n",
    "    ratios_b.append(ratio_b)\n",
    "\n",
    "ratios_v_series = pd.Series(ratios_v)\n",
    "ratios_t_series = pd.Series(ratios_t)\n",
    "ratios_b_series = pd.Series(ratios_b)\n",
    "\n",
    "ratios_v_series.index = likes_df_short.index\n",
    "ratios_t_series.index = likes_df_short.index\n",
    "ratios_b_series.index = likes_df_short.index\n",
    "\n",
    "likes_df_short[\"Vader comment ratio\"] = ratios_v_series\n",
    "likes_df_short[\"TextBlob comment ratio\"] = ratios_t_series\n",
    "likes_df_short[\"BERT comment ratio\"] = ratios_b_series\n",
    "\n",
    "likes_df_short = likes_df_short[[\"URL\", \"ID\", \"likes\", \"dislikes\", \"like/dislike ratio\", \"Vader total\", \"Vader comment ratio\", \"TextBlob total\", \"TextBlob comment ratio\",\"BERT total\", \"BERT comment ratio\"]]\n",
    "likes_df_short = likes_df_short.drop(columns = \"URL\")\n",
    "likes_df_short.head(10)"
   ]
  },
  {
   "cell_type": "markdown",
   "metadata": {},
   "source": [
    "Now that we have this (naive) prediction, we need to see if it is actually predicting or not\n",
    "\n",
    "The first thing we'll do is check the correlation with a couple of different formulas"
   ]
  },
  {
   "cell_type": "code",
   "execution_count": 35,
   "metadata": {},
   "outputs": [
    {
     "name": "stdout",
     "output_type": "stream",
     "text": [
      "Pearson's r for model <Vader>:\n",
      "-0.0017524571320556455\n",
      "p-value: 0.9667293010465149\n",
      "\n",
      "Pearson's r for model <TextBlob>:\n",
      "-0.02788177325505346\n",
      "p-value: 0.5068499966297497\n",
      "\n",
      "Pearson's r for model <BERT>:\n",
      "0.03702395528412221\n",
      "p-value: 0.3780368498545428\n",
      "\n",
      "Mean Pearson's r, p value, standard deviation:\n",
      "0.002463241632337701, 0.6172053825102691, 0.03265757930947074\n",
      "---------------------\n",
      "\n",
      "Spearman's r for model <Vader>:\n",
      "-0.15\n",
      "p-value: 0.00021516074964791665\n",
      "\n",
      "Spearman's r for model <TextBlob>:\n",
      "-0.17\n",
      "p-value: 2.927715567094957e-05\n",
      "\n",
      "Spearman's r for model <BERT>:\n",
      "-0.03\n",
      "p-value: 0.42398117438562066\n",
      "\n",
      "Mean Spearman's r, p value, standard deviation:\n",
      "-0.1207860373442453, 0.14140853743031317, 0.07615968671966931\n"
     ]
    }
   ],
   "source": [
    "corr_df = likes_df_short.copy(deep = True)\n",
    "corr_df.head()\n",
    "like_ratio = corr_df[\"like/dislike ratio\"]\n",
    "\n",
    "corrs_pearson = []\n",
    "pvals_pearson = []\n",
    "\n",
    "comment_ratios = [ratios_v, ratios_t, ratios_b]\n",
    "models = [\"Vader\", \"TextBlob\", \"BERT\"]\n",
    "\n",
    "for lst, model in zip(comment_ratios, models):\n",
    "    corr, p_value = pearsonr(like_ratio, lst)\n",
    "    corrs_pearson.append(corr)\n",
    "    pvals_pearson.append(p_value)\n",
    "    print(f\"Pearson's r for model <{model}>:\\n{corr}\\np-value: {p_value}\\n\")\n",
    "\n",
    "print(f\"Mean Pearson's r, p value, standard deviation:\\n{sum(corrs_pearson)/len(corrs_pearson)}, {sum(pvals_pearson)/len(pvals_pearson)}, {statistics.stdev(corrs_pearson)}\")\n",
    "\n",
    "print(\"---------------------\\n\")\n",
    "\n",
    "corrs_spearman = []\n",
    "pvals_spearman = []\n",
    "\n",
    "for lst, model in zip(comment_ratios, models):\n",
    "    corr, p_value = spearmanr(like_ratio, lst)\n",
    "    corrs_spearman.append(corr)\n",
    "    pvals_spearman.append(p_value)\n",
    "    print(f\"Spearman's r for model <{model}>:\\n{corr :.2f}\\np-value: {p_value }\\n\")\n",
    "\n",
    "print(f\"Mean Spearman's r, p value, standard deviation:\\n{sum(corrs_spearman)/len(corrs_spearman)}, {sum(pvals_spearman)/len(pvals_spearman)}, {statistics.stdev(corrs_spearman)}\")"
   ]
  },
  {
   "cell_type": "markdown",
   "metadata": {},
   "source": [
    "None of them show a strong correlation. We should check the mean absolute error as well."
   ]
  },
  {
   "cell_type": "code",
   "execution_count": 26,
   "metadata": {},
   "outputs": [
    {
     "name": "stdout",
     "output_type": "stream",
     "text": [
      "Mean absolute error for model <Vader>:\n",
      "90.03796065281864\n",
      "Mean absolute error for model <TextBlob>:\n",
      "87.83423741730469\n",
      "Mean absolute error for model <BERT>:\n",
      "94.27333244350451\n"
     ]
    }
   ],
   "source": [
    "comment_ratios = [ratios_v, ratios_t, ratios_b]\n",
    "like_ratio = corr_df[\"like/dislike ratio\"]\n",
    "\n",
    "models = [\"Vader\", \"TextBlob\", \"BERT\"]\n",
    "\n",
    "for lst, model in zip(comment_ratios, models):\n",
    "    mae = mean_absolute_error(like_ratio, lst)\n",
    "    print(f\"Mean absolute error for model <{model}>:\\n{mae}\")\n"
   ]
  },
  {
   "cell_type": "markdown",
   "metadata": {},
   "source": [
    "The results per video are not good. Let's check against the baseline and see if it gets better"
   ]
  },
  {
   "cell_type": "code",
   "execution_count": 27,
   "metadata": {},
   "outputs": [
    {
     "name": "stdout",
     "output_type": "stream",
     "text": [
      "Raw difference for model <Vader>:\n",
      "114.70\n",
      "Raw difference for model <TextBlob>:\n",
      "109.97\n",
      "Raw difference for model <BERT>:\n",
      "120.84\n"
     ]
    }
   ],
   "source": [
    "predicted_ratios = [corr_df[\"Vader comment ratio\"], corr_df[\"TextBlob comment ratio\"], corr_df[\"BERT comment ratio\"]]\n",
    "models = [\"Vader\", \"TextBlob\", \"BERT\"]\n",
    "\n",
    "for ratio, model in zip(predicted_ratios, models):\n",
    "    predicted_mean = ratio.mean()\n",
    "    raw_difference = mean_ratio - predicted_mean\n",
    "    print(f\"Raw difference for model <{model}>:\\n{raw_difference :.2f}\")"
   ]
  },
  {
   "cell_type": "markdown",
   "metadata": {},
   "source": [
    "Let's check if the scores correlate"
   ]
  },
  {
   "cell_type": "code",
   "execution_count": 28,
   "metadata": {},
   "outputs": [
    {
     "name": "stdout",
     "output_type": "stream",
     "text": [
      "Correlation matrix: \n"
     ]
    },
    {
     "data": {
      "text/html": [
       "<div>\n",
       "<style scoped>\n",
       "    .dataframe tbody tr th:only-of-type {\n",
       "        vertical-align: middle;\n",
       "    }\n",
       "\n",
       "    .dataframe tbody tr th {\n",
       "        vertical-align: top;\n",
       "    }\n",
       "\n",
       "    .dataframe thead th {\n",
       "        text-align: right;\n",
       "    }\n",
       "</style>\n",
       "<table border=\"1\" class=\"dataframe\">\n",
       "  <thead>\n",
       "    <tr style=\"text-align: right;\">\n",
       "      <th></th>\n",
       "      <th>Vader total</th>\n",
       "      <th>TextBlob total</th>\n",
       "      <th>BERT total</th>\n",
       "    </tr>\n",
       "  </thead>\n",
       "  <tbody>\n",
       "    <tr>\n",
       "      <th>Vader total</th>\n",
       "      <td>1.000000</td>\n",
       "      <td>0.846248</td>\n",
       "      <td>0.764197</td>\n",
       "    </tr>\n",
       "    <tr>\n",
       "      <th>TextBlob total</th>\n",
       "      <td>0.846248</td>\n",
       "      <td>1.000000</td>\n",
       "      <td>0.779548</td>\n",
       "    </tr>\n",
       "    <tr>\n",
       "      <th>BERT total</th>\n",
       "      <td>0.764197</td>\n",
       "      <td>0.779548</td>\n",
       "      <td>1.000000</td>\n",
       "    </tr>\n",
       "  </tbody>\n",
       "</table>\n",
       "</div>"
      ],
      "text/plain": [
       "                Vader total  TextBlob total  BERT total\n",
       "Vader total        1.000000        0.846248    0.764197\n",
       "TextBlob total     0.846248        1.000000    0.779548\n",
       "BERT total         0.764197        0.779548    1.000000"
      ]
     },
     "execution_count": 28,
     "metadata": {},
     "output_type": "execute_result"
    }
   ],
   "source": [
    "score_df = likes_df_short.copy(deep = True)\n",
    "score_df = score_df.drop(columns = [\"ID\", \"likes\", \"dislikes\", \"like/dislike ratio\", \"Vader comment ratio\", \"TextBlob comment ratio\", \"BERT comment ratio\"])\n",
    "print(\"Correlation matrix: \")\n",
    "score_df.corr()"
   ]
  },
  {
   "cell_type": "code",
   "execution_count": null,
   "metadata": {},
   "outputs": [],
   "source": []
  }
 ],
 "metadata": {
  "interpreter": {
   "hash": "a0c3480dd823bfbce7c29a655c10633f6c16ea9c90c0e2bbbb7d47ca3445a085"
  },
  "kernelspec": {
   "display_name": "Python 3.10.4 64-bit",
   "language": "python",
   "name": "python3"
  },
  "language_info": {
   "codemirror_mode": {
    "name": "ipython",
    "version": 3
   },
   "file_extension": ".py",
   "mimetype": "text/x-python",
   "name": "python",
   "nbconvert_exporter": "python",
   "pygments_lexer": "ipython3",
   "version": "3.10.4"
  },
  "orig_nbformat": 4
 },
 "nbformat": 4,
 "nbformat_minor": 2
}
